{
 "cells": [
  {
   "cell_type": "code",
   "execution_count": 1,
   "metadata": {
    "id": "hEx1doSkurL8"
   },
   "outputs": [
    {
     "name": "stderr",
     "output_type": "stream",
     "text": [
      "/usr/lib/python3/dist-packages/scipy/__init__.py:146: UserWarning: A NumPy version >=1.17.3 and <1.25.0 is required for this version of SciPy (detected version 1.26.2\n",
      "  warnings.warn(f\"A NumPy version >={np_minversion} and <{np_maxversion}\"\n"
     ]
    }
   ],
   "source": [
    "# first lets import the data from the given file\n",
    "# lets also import the required libraries that we are going to use\n",
    "\n",
    "import pandas as pd\n",
    "import numpy as np\n",
    "from matplotlib import pyplot as plt\n",
    "import pandas as pd\n",
    "import seaborn as sns"
   ]
  },
  {
   "cell_type": "code",
   "execution_count": 2,
   "metadata": {
    "colab": {
     "base_uri": "https://localhost:8080/"
    },
    "id": "-2JtJ-KRvsgC",
    "outputId": "269fca96-3269-4c15-a69b-4efe2c62f6fc"
   },
   "outputs": [
    {
     "name": "stdout",
     "output_type": "stream",
     "text": [
      "--2024-03-20 22:53:14--  https://d2beiqkhq929f0.cloudfront.net/public_assets/assets/000/001/125/original/aerofit_treadmill.csv?1639992749\n",
      "Resolving d2beiqkhq929f0.cloudfront.net (d2beiqkhq929f0.cloudfront.net)... 2600:9000:2149:600:11:1aff:4b00:21, 2600:9000:2149:de00:11:1aff:4b00:21, 2600:9000:2149:6600:11:1aff:4b00:21, ...\n",
      "Connecting to d2beiqkhq929f0.cloudfront.net (d2beiqkhq929f0.cloudfront.net)|2600:9000:2149:600:11:1aff:4b00:21|:443... connected.\n",
      "HTTP request sent, awaiting response... 200 OK\n",
      "Length: 7279 (7.1K) [text/plain]\n",
      "Saving to: ‘aerofit_treadmill.csv?1639992749.2’\n",
      "\n",
      "aerofit_treadmill.c 100%[===================>]   7.11K  --.-KB/s    in 0s      \n",
      "\n",
      "2024-03-20 22:53:14 (1.22 GB/s) - ‘aerofit_treadmill.csv?1639992749.2’ saved [7279/7279]\n",
      "\n"
     ]
    }
   ],
   "source": [
    "# lets get the data file\n",
    "!wget https://d2beiqkhq929f0.cloudfront.net/public_assets/assets/000/001/125/original/aerofit_treadmill.csv?1639992749"
   ]
  },
  {
   "cell_type": "code",
   "execution_count": 3,
   "metadata": {
    "id": "5rt1lPs6v7qR"
   },
   "outputs": [],
   "source": [
    "# read the file that we have imported\n",
    "data = pd.read_csv('aerofit_treadmill.csv?1639992749')"
   ]
  },
  {
   "cell_type": "markdown",
   "metadata": {
    "id": "61WIKhSVky8D"
   },
   "source": [
    "# Product Details\n",
    "\n",
    "The KP281 is an entry-level treadmill that sells for $1,500.\n",
    "\n",
    "The KP481 is for mid-level runners that sell for $1,750.\n",
    "\n",
    "The KP781 treadmill is having advanced features that sell for $2,500.\n",
    "\n"
   ]
  },
  {
   "cell_type": "code",
   "execution_count": 4,
   "metadata": {
    "colab": {
     "base_uri": "https://localhost:8080/",
     "height": 300
    },
    "id": "MtjB0Y_YkyR7",
    "outputId": "fd935f15-9c30-4257-ce62-8acf0e27aa91"
   },
   "outputs": [
    {
     "data": {
      "text/html": [
       "<div>\n",
       "<style scoped>\n",
       "    .dataframe tbody tr th:only-of-type {\n",
       "        vertical-align: middle;\n",
       "    }\n",
       "\n",
       "    .dataframe tbody tr th {\n",
       "        vertical-align: top;\n",
       "    }\n",
       "\n",
       "    .dataframe thead th {\n",
       "        text-align: right;\n",
       "    }\n",
       "</style>\n",
       "<table border=\"1\" class=\"dataframe\">\n",
       "  <thead>\n",
       "    <tr style=\"text-align: right;\">\n",
       "      <th></th>\n",
       "      <th>Age</th>\n",
       "      <th>Education</th>\n",
       "      <th>Usage</th>\n",
       "      <th>Fitness</th>\n",
       "      <th>Income</th>\n",
       "      <th>Miles</th>\n",
       "    </tr>\n",
       "  </thead>\n",
       "  <tbody>\n",
       "    <tr>\n",
       "      <th>count</th>\n",
       "      <td>180.000000</td>\n",
       "      <td>180.000000</td>\n",
       "      <td>180.000000</td>\n",
       "      <td>180.000000</td>\n",
       "      <td>180.000000</td>\n",
       "      <td>180.000000</td>\n",
       "    </tr>\n",
       "    <tr>\n",
       "      <th>mean</th>\n",
       "      <td>28.788889</td>\n",
       "      <td>15.572222</td>\n",
       "      <td>3.455556</td>\n",
       "      <td>3.311111</td>\n",
       "      <td>53719.577778</td>\n",
       "      <td>103.194444</td>\n",
       "    </tr>\n",
       "    <tr>\n",
       "      <th>std</th>\n",
       "      <td>6.943498</td>\n",
       "      <td>1.617055</td>\n",
       "      <td>1.084797</td>\n",
       "      <td>0.958869</td>\n",
       "      <td>16506.684226</td>\n",
       "      <td>51.863605</td>\n",
       "    </tr>\n",
       "    <tr>\n",
       "      <th>min</th>\n",
       "      <td>18.000000</td>\n",
       "      <td>12.000000</td>\n",
       "      <td>2.000000</td>\n",
       "      <td>1.000000</td>\n",
       "      <td>29562.000000</td>\n",
       "      <td>21.000000</td>\n",
       "    </tr>\n",
       "    <tr>\n",
       "      <th>25%</th>\n",
       "      <td>24.000000</td>\n",
       "      <td>14.000000</td>\n",
       "      <td>3.000000</td>\n",
       "      <td>3.000000</td>\n",
       "      <td>44058.750000</td>\n",
       "      <td>66.000000</td>\n",
       "    </tr>\n",
       "    <tr>\n",
       "      <th>50%</th>\n",
       "      <td>26.000000</td>\n",
       "      <td>16.000000</td>\n",
       "      <td>3.000000</td>\n",
       "      <td>3.000000</td>\n",
       "      <td>50596.500000</td>\n",
       "      <td>94.000000</td>\n",
       "    </tr>\n",
       "    <tr>\n",
       "      <th>75%</th>\n",
       "      <td>33.000000</td>\n",
       "      <td>16.000000</td>\n",
       "      <td>4.000000</td>\n",
       "      <td>4.000000</td>\n",
       "      <td>58668.000000</td>\n",
       "      <td>114.750000</td>\n",
       "    </tr>\n",
       "    <tr>\n",
       "      <th>max</th>\n",
       "      <td>50.000000</td>\n",
       "      <td>21.000000</td>\n",
       "      <td>7.000000</td>\n",
       "      <td>5.000000</td>\n",
       "      <td>104581.000000</td>\n",
       "      <td>360.000000</td>\n",
       "    </tr>\n",
       "  </tbody>\n",
       "</table>\n",
       "</div>"
      ],
      "text/plain": [
       "              Age   Education       Usage     Fitness         Income  \\\n",
       "count  180.000000  180.000000  180.000000  180.000000     180.000000   \n",
       "mean    28.788889   15.572222    3.455556    3.311111   53719.577778   \n",
       "std      6.943498    1.617055    1.084797    0.958869   16506.684226   \n",
       "min     18.000000   12.000000    2.000000    1.000000   29562.000000   \n",
       "25%     24.000000   14.000000    3.000000    3.000000   44058.750000   \n",
       "50%     26.000000   16.000000    3.000000    3.000000   50596.500000   \n",
       "75%     33.000000   16.000000    4.000000    4.000000   58668.000000   \n",
       "max     50.000000   21.000000    7.000000    5.000000  104581.000000   \n",
       "\n",
       "            Miles  \n",
       "count  180.000000  \n",
       "mean   103.194444  \n",
       "std     51.863605  \n",
       "min     21.000000  \n",
       "25%     66.000000  \n",
       "50%     94.000000  \n",
       "75%    114.750000  \n",
       "max    360.000000  "
      ]
     },
     "execution_count": 4,
     "metadata": {},
     "output_type": "execute_result"
    }
   ],
   "source": [
    "# data characteristics\n",
    "data.describe()"
   ]
  },
  {
   "cell_type": "markdown",
   "metadata": {
    "id": "JvLwSyK9mkx8"
   },
   "source": [
    "# Data Characteristics\n",
    "1. Age - The age range of customers spans from 18 to 50 year, with an average age of 29 years.\n",
    "\n",
    "2. Education - Customer education levels vary between 12 and 21 years, with an average education duration of 16 years.\n",
    "\n",
    "3. Usage - Customers intend to utilize the product anywhere from 2 to 7 times per week, with an average usage frequency of 3 times per week.\n",
    "\n",
    "4. Fitness - On average, customers have rated their fitness at 3 on a 5-point scale, reflecting a moderate level of fitness.\n",
    "\n",
    "5. Income - The annual income of customers falls within the range of USD 30,000 to USD 100,000, with an average income of approximately USD 54,000.\n",
    "\n",
    "6. Miles - Customers' weekly running goals range from 21 to 360 miles, with an average target of 103 miles per week\n"
   ]
  },
  {
   "cell_type": "code",
   "execution_count": 5,
   "metadata": {
    "id": "hyENo731nTKJ"
   },
   "outputs": [],
   "source": [
    "# lets group the age feature into four buckets\n",
    "\n",
    "# Young Adult: from 18 - 25\n",
    "# Adults: from 26 - 35\n",
    "# Middle Aged Adults: 36-45\n",
    "# Elder :46 and above\n",
    "\n",
    "bin_range1 = [17,25,35,45,float('inf')]\n",
    "bin_labels1 = ['Young Adults', 'Adults', 'Middle Aged Adults', 'Elder']\n",
    "\n",
    "data['age_group'] = pd.cut(data['Age'],bins = bin_range1,labels = bin_labels1)\n"
   ]
  },
  {
   "cell_type": "code",
   "execution_count": 6,
   "metadata": {
    "colab": {
     "base_uri": "https://localhost:8080/",
     "height": 293
    },
    "id": "0OcS6vs0wqiA",
    "outputId": "b98cc81f-f305-486d-e318-89a08e818f28"
   },
   "outputs": [
    {
     "data": {
      "text/html": [
       "<div>\n",
       "<style scoped>\n",
       "    .dataframe tbody tr th:only-of-type {\n",
       "        vertical-align: middle;\n",
       "    }\n",
       "\n",
       "    .dataframe tbody tr th {\n",
       "        vertical-align: top;\n",
       "    }\n",
       "\n",
       "    .dataframe thead th {\n",
       "        text-align: right;\n",
       "    }\n",
       "</style>\n",
       "<table border=\"1\" class=\"dataframe\">\n",
       "  <thead>\n",
       "    <tr style=\"text-align: right;\">\n",
       "      <th></th>\n",
       "      <th>Product</th>\n",
       "      <th>Age</th>\n",
       "      <th>Gender</th>\n",
       "      <th>Education</th>\n",
       "      <th>MaritalStatus</th>\n",
       "      <th>Usage</th>\n",
       "      <th>Fitness</th>\n",
       "      <th>Income</th>\n",
       "      <th>Miles</th>\n",
       "      <th>age_group</th>\n",
       "    </tr>\n",
       "  </thead>\n",
       "  <tbody>\n",
       "    <tr>\n",
       "      <th>0</th>\n",
       "      <td>KP281</td>\n",
       "      <td>18</td>\n",
       "      <td>Male</td>\n",
       "      <td>14</td>\n",
       "      <td>Single</td>\n",
       "      <td>3</td>\n",
       "      <td>4</td>\n",
       "      <td>29562</td>\n",
       "      <td>112</td>\n",
       "      <td>Young Adults</td>\n",
       "    </tr>\n",
       "    <tr>\n",
       "      <th>1</th>\n",
       "      <td>KP281</td>\n",
       "      <td>19</td>\n",
       "      <td>Male</td>\n",
       "      <td>15</td>\n",
       "      <td>Single</td>\n",
       "      <td>2</td>\n",
       "      <td>3</td>\n",
       "      <td>31836</td>\n",
       "      <td>75</td>\n",
       "      <td>Young Adults</td>\n",
       "    </tr>\n",
       "    <tr>\n",
       "      <th>2</th>\n",
       "      <td>KP281</td>\n",
       "      <td>19</td>\n",
       "      <td>Female</td>\n",
       "      <td>14</td>\n",
       "      <td>Partnered</td>\n",
       "      <td>4</td>\n",
       "      <td>3</td>\n",
       "      <td>30699</td>\n",
       "      <td>66</td>\n",
       "      <td>Young Adults</td>\n",
       "    </tr>\n",
       "    <tr>\n",
       "      <th>3</th>\n",
       "      <td>KP281</td>\n",
       "      <td>19</td>\n",
       "      <td>Male</td>\n",
       "      <td>12</td>\n",
       "      <td>Single</td>\n",
       "      <td>3</td>\n",
       "      <td>3</td>\n",
       "      <td>32973</td>\n",
       "      <td>85</td>\n",
       "      <td>Young Adults</td>\n",
       "    </tr>\n",
       "    <tr>\n",
       "      <th>4</th>\n",
       "      <td>KP281</td>\n",
       "      <td>20</td>\n",
       "      <td>Male</td>\n",
       "      <td>13</td>\n",
       "      <td>Partnered</td>\n",
       "      <td>4</td>\n",
       "      <td>2</td>\n",
       "      <td>35247</td>\n",
       "      <td>47</td>\n",
       "      <td>Young Adults</td>\n",
       "    </tr>\n",
       "  </tbody>\n",
       "</table>\n",
       "</div>"
      ],
      "text/plain": [
       "  Product  Age  Gender  Education MaritalStatus  Usage  Fitness  Income  \\\n",
       "0   KP281   18    Male         14        Single      3        4   29562   \n",
       "1   KP281   19    Male         15        Single      2        3   31836   \n",
       "2   KP281   19  Female         14     Partnered      4        3   30699   \n",
       "3   KP281   19    Male         12        Single      3        3   32973   \n",
       "4   KP281   20    Male         13     Partnered      4        2   35247   \n",
       "\n",
       "   Miles     age_group  \n",
       "0    112  Young Adults  \n",
       "1     75  Young Adults  \n",
       "2     66  Young Adults  \n",
       "3     85  Young Adults  \n",
       "4     47  Young Adults  "
      ]
     },
     "execution_count": 6,
     "metadata": {},
     "output_type": "execute_result"
    }
   ],
   "source": [
    "data.head()"
   ]
  },
  {
   "cell_type": "code",
   "execution_count": 7,
   "metadata": {
    "colab": {
     "base_uri": "https://localhost:8080/",
     "height": 496
    },
    "id": "fpWxbeCMwr8I",
    "outputId": "3a7f6b10-1c50-4a90-e4a1-e8320d3a40af"
   },
   "outputs": [
    {
     "data": {
      "text/html": [
       "<div>\n",
       "<style scoped>\n",
       "    .dataframe tbody tr th:only-of-type {\n",
       "        vertical-align: middle;\n",
       "    }\n",
       "\n",
       "    .dataframe tbody tr th {\n",
       "        vertical-align: top;\n",
       "    }\n",
       "\n",
       "    .dataframe thead th {\n",
       "        text-align: right;\n",
       "    }\n",
       "</style>\n",
       "<table border=\"1\" class=\"dataframe\">\n",
       "  <thead>\n",
       "    <tr style=\"text-align: right;\">\n",
       "      <th></th>\n",
       "      <th>Product</th>\n",
       "      <th>Age</th>\n",
       "      <th>Gender</th>\n",
       "      <th>Education</th>\n",
       "      <th>MaritalStatus</th>\n",
       "      <th>Usage</th>\n",
       "      <th>Fitness</th>\n",
       "      <th>Income</th>\n",
       "      <th>Miles</th>\n",
       "      <th>age_group</th>\n",
       "    </tr>\n",
       "  </thead>\n",
       "  <tbody>\n",
       "    <tr>\n",
       "      <th>173</th>\n",
       "      <td>KP781</td>\n",
       "      <td>35</td>\n",
       "      <td>Male</td>\n",
       "      <td>16</td>\n",
       "      <td>Partnered</td>\n",
       "      <td>4</td>\n",
       "      <td>5</td>\n",
       "      <td>92131</td>\n",
       "      <td>360</td>\n",
       "      <td>Adults</td>\n",
       "    </tr>\n",
       "    <tr>\n",
       "      <th>166</th>\n",
       "      <td>KP781</td>\n",
       "      <td>29</td>\n",
       "      <td>Male</td>\n",
       "      <td>14</td>\n",
       "      <td>Partnered</td>\n",
       "      <td>7</td>\n",
       "      <td>5</td>\n",
       "      <td>85906</td>\n",
       "      <td>300</td>\n",
       "      <td>Adults</td>\n",
       "    </tr>\n",
       "    <tr>\n",
       "      <th>167</th>\n",
       "      <td>KP781</td>\n",
       "      <td>30</td>\n",
       "      <td>Female</td>\n",
       "      <td>16</td>\n",
       "      <td>Partnered</td>\n",
       "      <td>6</td>\n",
       "      <td>5</td>\n",
       "      <td>90886</td>\n",
       "      <td>280</td>\n",
       "      <td>Adults</td>\n",
       "    </tr>\n",
       "    <tr>\n",
       "      <th>170</th>\n",
       "      <td>KP781</td>\n",
       "      <td>31</td>\n",
       "      <td>Male</td>\n",
       "      <td>16</td>\n",
       "      <td>Partnered</td>\n",
       "      <td>6</td>\n",
       "      <td>5</td>\n",
       "      <td>89641</td>\n",
       "      <td>260</td>\n",
       "      <td>Adults</td>\n",
       "    </tr>\n",
       "    <tr>\n",
       "      <th>155</th>\n",
       "      <td>KP781</td>\n",
       "      <td>25</td>\n",
       "      <td>Male</td>\n",
       "      <td>18</td>\n",
       "      <td>Partnered</td>\n",
       "      <td>6</td>\n",
       "      <td>5</td>\n",
       "      <td>75946</td>\n",
       "      <td>240</td>\n",
       "      <td>Young Adults</td>\n",
       "    </tr>\n",
       "    <tr>\n",
       "      <th>...</th>\n",
       "      <td>...</td>\n",
       "      <td>...</td>\n",
       "      <td>...</td>\n",
       "      <td>...</td>\n",
       "      <td>...</td>\n",
       "      <td>...</td>\n",
       "      <td>...</td>\n",
       "      <td>...</td>\n",
       "      <td>...</td>\n",
       "      <td>...</td>\n",
       "    </tr>\n",
       "    <tr>\n",
       "      <th>106</th>\n",
       "      <td>KP481</td>\n",
       "      <td>25</td>\n",
       "      <td>Female</td>\n",
       "      <td>14</td>\n",
       "      <td>Single</td>\n",
       "      <td>2</td>\n",
       "      <td>2</td>\n",
       "      <td>45480</td>\n",
       "      <td>42</td>\n",
       "      <td>Young Adults</td>\n",
       "    </tr>\n",
       "    <tr>\n",
       "      <th>59</th>\n",
       "      <td>KP281</td>\n",
       "      <td>33</td>\n",
       "      <td>Female</td>\n",
       "      <td>16</td>\n",
       "      <td>Single</td>\n",
       "      <td>2</td>\n",
       "      <td>2</td>\n",
       "      <td>55713</td>\n",
       "      <td>38</td>\n",
       "      <td>Adults</td>\n",
       "    </tr>\n",
       "    <tr>\n",
       "      <th>51</th>\n",
       "      <td>KP281</td>\n",
       "      <td>29</td>\n",
       "      <td>Female</td>\n",
       "      <td>14</td>\n",
       "      <td>Partnered</td>\n",
       "      <td>2</td>\n",
       "      <td>2</td>\n",
       "      <td>46617</td>\n",
       "      <td>38</td>\n",
       "      <td>Adults</td>\n",
       "    </tr>\n",
       "    <tr>\n",
       "      <th>19</th>\n",
       "      <td>KP281</td>\n",
       "      <td>23</td>\n",
       "      <td>Female</td>\n",
       "      <td>15</td>\n",
       "      <td>Partnered</td>\n",
       "      <td>2</td>\n",
       "      <td>2</td>\n",
       "      <td>34110</td>\n",
       "      <td>38</td>\n",
       "      <td>Young Adults</td>\n",
       "    </tr>\n",
       "    <tr>\n",
       "      <th>117</th>\n",
       "      <td>KP481</td>\n",
       "      <td>31</td>\n",
       "      <td>Female</td>\n",
       "      <td>18</td>\n",
       "      <td>Single</td>\n",
       "      <td>2</td>\n",
       "      <td>1</td>\n",
       "      <td>65220</td>\n",
       "      <td>21</td>\n",
       "      <td>Adults</td>\n",
       "    </tr>\n",
       "  </tbody>\n",
       "</table>\n",
       "<p>180 rows × 10 columns</p>\n",
       "</div>"
      ],
      "text/plain": [
       "    Product  Age  Gender  Education MaritalStatus  Usage  Fitness  Income  \\\n",
       "173   KP781   35    Male         16     Partnered      4        5   92131   \n",
       "166   KP781   29    Male         14     Partnered      7        5   85906   \n",
       "167   KP781   30  Female         16     Partnered      6        5   90886   \n",
       "170   KP781   31    Male         16     Partnered      6        5   89641   \n",
       "155   KP781   25    Male         18     Partnered      6        5   75946   \n",
       "..      ...  ...     ...        ...           ...    ...      ...     ...   \n",
       "106   KP481   25  Female         14        Single      2        2   45480   \n",
       "59    KP281   33  Female         16        Single      2        2   55713   \n",
       "51    KP281   29  Female         14     Partnered      2        2   46617   \n",
       "19    KP281   23  Female         15     Partnered      2        2   34110   \n",
       "117   KP481   31  Female         18        Single      2        1   65220   \n",
       "\n",
       "     Miles     age_group  \n",
       "173    360        Adults  \n",
       "166    300        Adults  \n",
       "167    280        Adults  \n",
       "170    260        Adults  \n",
       "155    240  Young Adults  \n",
       "..     ...           ...  \n",
       "106     42  Young Adults  \n",
       "59      38        Adults  \n",
       "51      38        Adults  \n",
       "19      38  Young Adults  \n",
       "117     21        Adults  \n",
       "\n",
       "[180 rows x 10 columns]"
      ]
     },
     "execution_count": 7,
     "metadata": {},
     "output_type": "execute_result"
    }
   ],
   "source": [
    "data.sort_values(by = 'Miles',ascending = False)"
   ]
  },
  {
   "cell_type": "code",
   "execution_count": 8,
   "metadata": {
    "colab": {
     "base_uri": "https://localhost:8080/",
     "height": 449
    },
    "id": "GkgB_oeGw60f",
    "outputId": "241ef5be-cd51-4c08-dfd4-8915b4c87d19"
   },
   "outputs": [
    {
     "data": {
      "image/png": "[encoded data removed]",
      "text/plain": [
       "<Figure size 432x288 with 1 Axes>"
      ]
     },
     "metadata": {
      "needs_background": "light"
     },
     "output_type": "display_data"
    }
   ],
   "source": [
    "# the first parameter that i can think of to recommend any treadmil is by how much a customer uses it\n",
    "# so lets plot a bar plot between Miles and Product\n",
    "\n",
    "sns.barplot(data = data, x = 'Product', y = 'Miles')\n",
    "plt.show()"
   ]
  },
  {
   "cell_type": "markdown",
   "metadata": {
    "id": "yyTJbbPgoGcq"
   },
   "source": [
    "# Inference\n",
    "\n",
    "From the above barplot we can see the people who have the advanced model KP781 are running more per week as their miles are higher."
   ]
  },
  {
   "cell_type": "code",
   "execution_count": 9,
   "metadata": {
    "colab": {
     "base_uri": "https://localhost:8080/",
     "height": 175
    },
    "id": "SbwuPaMAx0YT",
    "outputId": "f1abeeac-23a3-4057-86c8-785d122732c2"
   },
   "outputs": [
    {
     "data": {
      "text/html": [
       "<div>\n",
       "<style scoped>\n",
       "    .dataframe tbody tr th:only-of-type {\n",
       "        vertical-align: middle;\n",
       "    }\n",
       "\n",
       "    .dataframe tbody tr th {\n",
       "        vertical-align: top;\n",
       "    }\n",
       "\n",
       "    .dataframe thead th {\n",
       "        text-align: right;\n",
       "    }\n",
       "</style>\n",
       "<table border=\"1\" class=\"dataframe\">\n",
       "  <thead>\n",
       "    <tr style=\"text-align: right;\">\n",
       "      <th></th>\n",
       "      <th>Age</th>\n",
       "      <th>Gender</th>\n",
       "      <th>Education</th>\n",
       "      <th>MaritalStatus</th>\n",
       "      <th>Usage</th>\n",
       "      <th>Fitness</th>\n",
       "      <th>Income</th>\n",
       "      <th>Miles</th>\n",
       "      <th>age_group</th>\n",
       "    </tr>\n",
       "    <tr>\n",
       "      <th>Product</th>\n",
       "      <th></th>\n",
       "      <th></th>\n",
       "      <th></th>\n",
       "      <th></th>\n",
       "      <th></th>\n",
       "      <th></th>\n",
       "      <th></th>\n",
       "      <th></th>\n",
       "      <th></th>\n",
       "    </tr>\n",
       "  </thead>\n",
       "  <tbody>\n",
       "    <tr>\n",
       "      <th>KP281</th>\n",
       "      <td>80</td>\n",
       "      <td>80</td>\n",
       "      <td>80</td>\n",
       "      <td>80</td>\n",
       "      <td>80</td>\n",
       "      <td>80</td>\n",
       "      <td>80</td>\n",
       "      <td>80</td>\n",
       "      <td>80</td>\n",
       "    </tr>\n",
       "    <tr>\n",
       "      <th>KP481</th>\n",
       "      <td>60</td>\n",
       "      <td>60</td>\n",
       "      <td>60</td>\n",
       "      <td>60</td>\n",
       "      <td>60</td>\n",
       "      <td>60</td>\n",
       "      <td>60</td>\n",
       "      <td>60</td>\n",
       "      <td>60</td>\n",
       "    </tr>\n",
       "    <tr>\n",
       "      <th>KP781</th>\n",
       "      <td>40</td>\n",
       "      <td>40</td>\n",
       "      <td>40</td>\n",
       "      <td>40</td>\n",
       "      <td>40</td>\n",
       "      <td>40</td>\n",
       "      <td>40</td>\n",
       "      <td>40</td>\n",
       "      <td>40</td>\n",
       "    </tr>\n",
       "  </tbody>\n",
       "</table>\n",
       "</div>"
      ],
      "text/plain": [
       "         Age  Gender  Education  MaritalStatus  Usage  Fitness  Income  Miles  \\\n",
       "Product                                                                         \n",
       "KP281     80      80         80             80     80       80      80     80   \n",
       "KP481     60      60         60             60     60       60      60     60   \n",
       "KP781     40      40         40             40     40       40      40     40   \n",
       "\n",
       "         age_group  \n",
       "Product             \n",
       "KP281           80  \n",
       "KP481           60  \n",
       "KP781           40  "
      ]
     },
     "execution_count": 9,
     "metadata": {},
     "output_type": "execute_result"
    }
   ],
   "source": [
    "data.groupby(by = 'Product').count()"
   ]
  },
  {
   "cell_type": "code",
   "execution_count": 10,
   "metadata": {
    "colab": {
     "base_uri": "https://localhost:8080/"
    },
    "id": "vi_bgcdyzFYP",
    "outputId": "664671f7-fefe-4b8b-aade-e31b87f57ce8"
   },
   "outputs": [
    {
     "data": {
      "text/plain": [
       "360"
      ]
     },
     "execution_count": 10,
     "metadata": {},
     "output_type": "execute_result"
    }
   ],
   "source": [
    "data[data['Product'] == 'KP781']['Miles'].max()"
   ]
  },
  {
   "cell_type": "code",
   "execution_count": 11,
   "metadata": {
    "colab": {
     "base_uri": "https://localhost:8080/",
     "height": 466
    },
    "id": "w7Z4hLQuzxsT",
    "outputId": "f8937e0c-116d-4279-ae5d-6a6c0344b3e5"
   },
   "outputs": [
    {
     "data": {
      "text/plain": [
       "<AxesSubplot:xlabel='Product', ylabel='Miles'>"
      ]
     },
     "execution_count": 11,
     "metadata": {},
     "output_type": "execute_result"
    },
    {
     "data": {
      "image/png": "[encoded data removed]",
      "text/plain": [
       "<Figure size 432x288 with 1 Axes>"
      ]
     },
     "metadata": {
      "needs_background": "light"
     },
     "output_type": "display_data"
    }
   ],
   "source": [
    "sns.boxplot(data = data, x = 'Product', y = 'Miles')"
   ]
  },
  {
   "cell_type": "code",
   "execution_count": 12,
   "metadata": {
    "colab": {
     "base_uri": "https://localhost:8080/",
     "height": 466
    },
    "id": "1BcZt3Em04O3",
    "outputId": "f9c13fed-20c1-4baa-8a87-b8f892feec4e"
   },
   "outputs": [
    {
     "data": {
      "text/plain": [
       "<AxesSubplot:xlabel='Product', ylabel='Miles'>"
      ]
     },
     "execution_count": 12,
     "metadata": {},
     "output_type": "execute_result"
    },
    {
     "data": {
      "image/png": "[encoded data removed]",
      "text/plain": [
       "<Figure size 432x288 with 1 Axes>"
      ]
     },
     "metadata": {
      "needs_background": "light"
     },
     "output_type": "display_data"
    }
   ],
   "source": [
    "sns.boxplot(data=data, x='Product', y='Miles', showfliers=True, whis=1.5)"
   ]
  },
  {
   "cell_type": "code",
   "execution_count": 13,
   "metadata": {
    "colab": {
     "base_uri": "https://localhost:8080/",
     "height": 449
    },
    "id": "R7CZcrBK1bGS",
    "outputId": "defcefa5-ff64-45b5-e42b-d6417206f065"
   },
   "outputs": [
    {
     "data": {
      "image/png": "[encoded data removed]",
      "text/plain": [
       "<Figure size 432x288 with 1 Axes>"
      ]
     },
     "metadata": {
      "needs_background": "light"
     },
     "output_type": "display_data"
    }
   ],
   "source": [
    "ax = sns.boxplot(data=data, x='Product', y='Miles', showfliers=True, whis=1.5)\n",
    "\n",
    "# print the median and q1\n",
    "medians = data.groupby('Product')['Miles'].median().values\n",
    "quantiles = data.groupby('Product')['Miles'].quantile(0.25).values\n",
    "\n",
    "for i, (median_val, quantile_val) in enumerate(zip(medians, quantiles)):\n",
    "    ax.text(i, median_val, f'{median_val:.2f}', ha='center', va='bottom', color='red', fontsize=10)\n",
    "    ax.text(i, quantile_val, f'Q1: {quantile_val:.2f}', ha='center', va='top', color='red', fontsize=10)\n",
    "\n",
    "plt.show()"
   ]
  },
  {
   "cell_type": "code",
   "execution_count": 14,
   "metadata": {
    "colab": {
     "base_uri": "https://localhost:8080/",
     "height": 1000
    },
    "id": "GwFyMzmv1reg",
    "outputId": "9e380724-3598-4188-a953-8dc7ced9583c"
   },
   "outputs": [
    {
     "data": {
      "text/html": [
       "<div>\n",
       "<style scoped>\n",
       "    .dataframe tbody tr th:only-of-type {\n",
       "        vertical-align: middle;\n",
       "    }\n",
       "\n",
       "    .dataframe tbody tr th {\n",
       "        vertical-align: top;\n",
       "    }\n",
       "\n",
       "    .dataframe thead th {\n",
       "        text-align: right;\n",
       "    }\n",
       "</style>\n",
       "<table border=\"1\" class=\"dataframe\">\n",
       "  <thead>\n",
       "    <tr style=\"text-align: right;\">\n",
       "      <th></th>\n",
       "      <th>Product</th>\n",
       "      <th>Age</th>\n",
       "      <th>Gender</th>\n",
       "      <th>Education</th>\n",
       "      <th>MaritalStatus</th>\n",
       "      <th>Usage</th>\n",
       "      <th>Fitness</th>\n",
       "      <th>Income</th>\n",
       "      <th>Miles</th>\n",
       "      <th>age_group</th>\n",
       "    </tr>\n",
       "  </thead>\n",
       "  <tbody>\n",
       "    <tr>\n",
       "      <th>23</th>\n",
       "      <td>KP281</td>\n",
       "      <td>24</td>\n",
       "      <td>Female</td>\n",
       "      <td>16</td>\n",
       "      <td>Partnered</td>\n",
       "      <td>5</td>\n",
       "      <td>5</td>\n",
       "      <td>44343</td>\n",
       "      <td>188</td>\n",
       "      <td>Young Adults</td>\n",
       "    </tr>\n",
       "    <tr>\n",
       "      <th>61</th>\n",
       "      <td>KP281</td>\n",
       "      <td>34</td>\n",
       "      <td>Male</td>\n",
       "      <td>16</td>\n",
       "      <td>Single</td>\n",
       "      <td>4</td>\n",
       "      <td>5</td>\n",
       "      <td>51165</td>\n",
       "      <td>169</td>\n",
       "      <td>Adults</td>\n",
       "    </tr>\n",
       "    <tr>\n",
       "      <th>141</th>\n",
       "      <td>KP781</td>\n",
       "      <td>22</td>\n",
       "      <td>Male</td>\n",
       "      <td>16</td>\n",
       "      <td>Single</td>\n",
       "      <td>3</td>\n",
       "      <td>5</td>\n",
       "      <td>54781</td>\n",
       "      <td>120</td>\n",
       "      <td>Young Adults</td>\n",
       "    </tr>\n",
       "    <tr>\n",
       "      <th>142</th>\n",
       "      <td>KP781</td>\n",
       "      <td>22</td>\n",
       "      <td>Male</td>\n",
       "      <td>18</td>\n",
       "      <td>Single</td>\n",
       "      <td>4</td>\n",
       "      <td>5</td>\n",
       "      <td>48556</td>\n",
       "      <td>200</td>\n",
       "      <td>Young Adults</td>\n",
       "    </tr>\n",
       "    <tr>\n",
       "      <th>143</th>\n",
       "      <td>KP781</td>\n",
       "      <td>23</td>\n",
       "      <td>Male</td>\n",
       "      <td>16</td>\n",
       "      <td>Single</td>\n",
       "      <td>4</td>\n",
       "      <td>5</td>\n",
       "      <td>58516</td>\n",
       "      <td>140</td>\n",
       "      <td>Young Adults</td>\n",
       "    </tr>\n",
       "    <tr>\n",
       "      <th>145</th>\n",
       "      <td>KP781</td>\n",
       "      <td>23</td>\n",
       "      <td>Male</td>\n",
       "      <td>16</td>\n",
       "      <td>Single</td>\n",
       "      <td>4</td>\n",
       "      <td>5</td>\n",
       "      <td>48556</td>\n",
       "      <td>100</td>\n",
       "      <td>Young Adults</td>\n",
       "    </tr>\n",
       "    <tr>\n",
       "      <th>146</th>\n",
       "      <td>KP781</td>\n",
       "      <td>24</td>\n",
       "      <td>Male</td>\n",
       "      <td>16</td>\n",
       "      <td>Single</td>\n",
       "      <td>4</td>\n",
       "      <td>5</td>\n",
       "      <td>61006</td>\n",
       "      <td>100</td>\n",
       "      <td>Young Adults</td>\n",
       "    </tr>\n",
       "    <tr>\n",
       "      <th>147</th>\n",
       "      <td>KP781</td>\n",
       "      <td>24</td>\n",
       "      <td>Male</td>\n",
       "      <td>18</td>\n",
       "      <td>Partnered</td>\n",
       "      <td>4</td>\n",
       "      <td>5</td>\n",
       "      <td>57271</td>\n",
       "      <td>80</td>\n",
       "      <td>Young Adults</td>\n",
       "    </tr>\n",
       "    <tr>\n",
       "      <th>148</th>\n",
       "      <td>KP781</td>\n",
       "      <td>24</td>\n",
       "      <td>Female</td>\n",
       "      <td>16</td>\n",
       "      <td>Single</td>\n",
       "      <td>5</td>\n",
       "      <td>5</td>\n",
       "      <td>52291</td>\n",
       "      <td>200</td>\n",
       "      <td>Young Adults</td>\n",
       "    </tr>\n",
       "    <tr>\n",
       "      <th>149</th>\n",
       "      <td>KP781</td>\n",
       "      <td>24</td>\n",
       "      <td>Male</td>\n",
       "      <td>16</td>\n",
       "      <td>Single</td>\n",
       "      <td>5</td>\n",
       "      <td>5</td>\n",
       "      <td>49801</td>\n",
       "      <td>160</td>\n",
       "      <td>Young Adults</td>\n",
       "    </tr>\n",
       "    <tr>\n",
       "      <th>150</th>\n",
       "      <td>KP781</td>\n",
       "      <td>25</td>\n",
       "      <td>Male</td>\n",
       "      <td>16</td>\n",
       "      <td>Partnered</td>\n",
       "      <td>4</td>\n",
       "      <td>5</td>\n",
       "      <td>49801</td>\n",
       "      <td>120</td>\n",
       "      <td>Young Adults</td>\n",
       "    </tr>\n",
       "    <tr>\n",
       "      <th>152</th>\n",
       "      <td>KP781</td>\n",
       "      <td>25</td>\n",
       "      <td>Female</td>\n",
       "      <td>18</td>\n",
       "      <td>Partnered</td>\n",
       "      <td>5</td>\n",
       "      <td>5</td>\n",
       "      <td>61006</td>\n",
       "      <td>200</td>\n",
       "      <td>Young Adults</td>\n",
       "    </tr>\n",
       "    <tr>\n",
       "      <th>155</th>\n",
       "      <td>KP781</td>\n",
       "      <td>25</td>\n",
       "      <td>Male</td>\n",
       "      <td>18</td>\n",
       "      <td>Partnered</td>\n",
       "      <td>6</td>\n",
       "      <td>5</td>\n",
       "      <td>75946</td>\n",
       "      <td>240</td>\n",
       "      <td>Young Adults</td>\n",
       "    </tr>\n",
       "    <tr>\n",
       "      <th>156</th>\n",
       "      <td>KP781</td>\n",
       "      <td>25</td>\n",
       "      <td>Male</td>\n",
       "      <td>20</td>\n",
       "      <td>Partnered</td>\n",
       "      <td>4</td>\n",
       "      <td>5</td>\n",
       "      <td>74701</td>\n",
       "      <td>170</td>\n",
       "      <td>Young Adults</td>\n",
       "    </tr>\n",
       "    <tr>\n",
       "      <th>159</th>\n",
       "      <td>KP781</td>\n",
       "      <td>27</td>\n",
       "      <td>Male</td>\n",
       "      <td>16</td>\n",
       "      <td>Partnered</td>\n",
       "      <td>4</td>\n",
       "      <td>5</td>\n",
       "      <td>83416</td>\n",
       "      <td>160</td>\n",
       "      <td>Adults</td>\n",
       "    </tr>\n",
       "    <tr>\n",
       "      <th>162</th>\n",
       "      <td>KP781</td>\n",
       "      <td>28</td>\n",
       "      <td>Female</td>\n",
       "      <td>18</td>\n",
       "      <td>Partnered</td>\n",
       "      <td>6</td>\n",
       "      <td>5</td>\n",
       "      <td>92131</td>\n",
       "      <td>180</td>\n",
       "      <td>Adults</td>\n",
       "    </tr>\n",
       "    <tr>\n",
       "      <th>163</th>\n",
       "      <td>KP781</td>\n",
       "      <td>28</td>\n",
       "      <td>Male</td>\n",
       "      <td>18</td>\n",
       "      <td>Partnered</td>\n",
       "      <td>7</td>\n",
       "      <td>5</td>\n",
       "      <td>77191</td>\n",
       "      <td>180</td>\n",
       "      <td>Adults</td>\n",
       "    </tr>\n",
       "    <tr>\n",
       "      <th>164</th>\n",
       "      <td>KP781</td>\n",
       "      <td>28</td>\n",
       "      <td>Male</td>\n",
       "      <td>18</td>\n",
       "      <td>Single</td>\n",
       "      <td>6</td>\n",
       "      <td>5</td>\n",
       "      <td>88396</td>\n",
       "      <td>150</td>\n",
       "      <td>Adults</td>\n",
       "    </tr>\n",
       "    <tr>\n",
       "      <th>165</th>\n",
       "      <td>KP781</td>\n",
       "      <td>29</td>\n",
       "      <td>Male</td>\n",
       "      <td>18</td>\n",
       "      <td>Single</td>\n",
       "      <td>5</td>\n",
       "      <td>5</td>\n",
       "      <td>52290</td>\n",
       "      <td>180</td>\n",
       "      <td>Adults</td>\n",
       "    </tr>\n",
       "    <tr>\n",
       "      <th>166</th>\n",
       "      <td>KP781</td>\n",
       "      <td>29</td>\n",
       "      <td>Male</td>\n",
       "      <td>14</td>\n",
       "      <td>Partnered</td>\n",
       "      <td>7</td>\n",
       "      <td>5</td>\n",
       "      <td>85906</td>\n",
       "      <td>300</td>\n",
       "      <td>Adults</td>\n",
       "    </tr>\n",
       "    <tr>\n",
       "      <th>167</th>\n",
       "      <td>KP781</td>\n",
       "      <td>30</td>\n",
       "      <td>Female</td>\n",
       "      <td>16</td>\n",
       "      <td>Partnered</td>\n",
       "      <td>6</td>\n",
       "      <td>5</td>\n",
       "      <td>90886</td>\n",
       "      <td>280</td>\n",
       "      <td>Adults</td>\n",
       "    </tr>\n",
       "    <tr>\n",
       "      <th>169</th>\n",
       "      <td>KP781</td>\n",
       "      <td>30</td>\n",
       "      <td>Male</td>\n",
       "      <td>18</td>\n",
       "      <td>Partnered</td>\n",
       "      <td>5</td>\n",
       "      <td>5</td>\n",
       "      <td>99601</td>\n",
       "      <td>150</td>\n",
       "      <td>Adults</td>\n",
       "    </tr>\n",
       "    <tr>\n",
       "      <th>170</th>\n",
       "      <td>KP781</td>\n",
       "      <td>31</td>\n",
       "      <td>Male</td>\n",
       "      <td>16</td>\n",
       "      <td>Partnered</td>\n",
       "      <td>6</td>\n",
       "      <td>5</td>\n",
       "      <td>89641</td>\n",
       "      <td>260</td>\n",
       "      <td>Adults</td>\n",
       "    </tr>\n",
       "    <tr>\n",
       "      <th>171</th>\n",
       "      <td>KP781</td>\n",
       "      <td>33</td>\n",
       "      <td>Female</td>\n",
       "      <td>18</td>\n",
       "      <td>Partnered</td>\n",
       "      <td>4</td>\n",
       "      <td>5</td>\n",
       "      <td>95866</td>\n",
       "      <td>200</td>\n",
       "      <td>Adults</td>\n",
       "    </tr>\n",
       "    <tr>\n",
       "      <th>172</th>\n",
       "      <td>KP781</td>\n",
       "      <td>34</td>\n",
       "      <td>Male</td>\n",
       "      <td>16</td>\n",
       "      <td>Single</td>\n",
       "      <td>5</td>\n",
       "      <td>5</td>\n",
       "      <td>92131</td>\n",
       "      <td>150</td>\n",
       "      <td>Adults</td>\n",
       "    </tr>\n",
       "    <tr>\n",
       "      <th>173</th>\n",
       "      <td>KP781</td>\n",
       "      <td>35</td>\n",
       "      <td>Male</td>\n",
       "      <td>16</td>\n",
       "      <td>Partnered</td>\n",
       "      <td>4</td>\n",
       "      <td>5</td>\n",
       "      <td>92131</td>\n",
       "      <td>360</td>\n",
       "      <td>Adults</td>\n",
       "    </tr>\n",
       "    <tr>\n",
       "      <th>174</th>\n",
       "      <td>KP781</td>\n",
       "      <td>38</td>\n",
       "      <td>Male</td>\n",
       "      <td>18</td>\n",
       "      <td>Partnered</td>\n",
       "      <td>5</td>\n",
       "      <td>5</td>\n",
       "      <td>104581</td>\n",
       "      <td>150</td>\n",
       "      <td>Middle Aged Adults</td>\n",
       "    </tr>\n",
       "    <tr>\n",
       "      <th>175</th>\n",
       "      <td>KP781</td>\n",
       "      <td>40</td>\n",
       "      <td>Male</td>\n",
       "      <td>21</td>\n",
       "      <td>Single</td>\n",
       "      <td>6</td>\n",
       "      <td>5</td>\n",
       "      <td>83416</td>\n",
       "      <td>200</td>\n",
       "      <td>Middle Aged Adults</td>\n",
       "    </tr>\n",
       "    <tr>\n",
       "      <th>177</th>\n",
       "      <td>KP781</td>\n",
       "      <td>45</td>\n",
       "      <td>Male</td>\n",
       "      <td>16</td>\n",
       "      <td>Single</td>\n",
       "      <td>5</td>\n",
       "      <td>5</td>\n",
       "      <td>90886</td>\n",
       "      <td>160</td>\n",
       "      <td>Middle Aged Adults</td>\n",
       "    </tr>\n",
       "    <tr>\n",
       "      <th>178</th>\n",
       "      <td>KP781</td>\n",
       "      <td>47</td>\n",
       "      <td>Male</td>\n",
       "      <td>18</td>\n",
       "      <td>Partnered</td>\n",
       "      <td>4</td>\n",
       "      <td>5</td>\n",
       "      <td>104581</td>\n",
       "      <td>120</td>\n",
       "      <td>Elder</td>\n",
       "    </tr>\n",
       "    <tr>\n",
       "      <th>179</th>\n",
       "      <td>KP781</td>\n",
       "      <td>48</td>\n",
       "      <td>Male</td>\n",
       "      <td>18</td>\n",
       "      <td>Partnered</td>\n",
       "      <td>4</td>\n",
       "      <td>5</td>\n",
       "      <td>95508</td>\n",
       "      <td>180</td>\n",
       "      <td>Elder</td>\n",
       "    </tr>\n",
       "  </tbody>\n",
       "</table>\n",
       "</div>"
      ],
      "text/plain": [
       "    Product  Age  Gender  Education MaritalStatus  Usage  Fitness  Income  \\\n",
       "23    KP281   24  Female         16     Partnered      5        5   44343   \n",
       "61    KP281   34    Male         16        Single      4        5   51165   \n",
       "141   KP781   22    Male         16        Single      3        5   54781   \n",
       "142   KP781   22    Male         18        Single      4        5   48556   \n",
       "143   KP781   23    Male         16        Single      4        5   58516   \n",
       "145   KP781   23    Male         16        Single      4        5   48556   \n",
       "146   KP781   24    Male         16        Single      4        5   61006   \n",
       "147   KP781   24    Male         18     Partnered      4        5   57271   \n",
       "148   KP781   24  Female         16        Single      5        5   52291   \n",
       "149   KP781   24    Male         16        Single      5        5   49801   \n",
       "150   KP781   25    Male         16     Partnered      4        5   49801   \n",
       "152   KP781   25  Female         18     Partnered      5        5   61006   \n",
       "155   KP781   25    Male         18     Partnered      6        5   75946   \n",
       "156   KP781   25    Male         20     Partnered      4        5   74701   \n",
       "159   KP781   27    Male         16     Partnered      4        5   83416   \n",
       "162   KP781   28  Female         18     Partnered      6        5   92131   \n",
       "163   KP781   28    Male         18     Partnered      7        5   77191   \n",
       "164   KP781   28    Male         18        Single      6        5   88396   \n",
       "165   KP781   29    Male         18        Single      5        5   52290   \n",
       "166   KP781   29    Male         14     Partnered      7        5   85906   \n",
       "167   KP781   30  Female         16     Partnered      6        5   90886   \n",
       "169   KP781   30    Male         18     Partnered      5        5   99601   \n",
       "170   KP781   31    Male         16     Partnered      6        5   89641   \n",
       "171   KP781   33  Female         18     Partnered      4        5   95866   \n",
       "172   KP781   34    Male         16        Single      5        5   92131   \n",
       "173   KP781   35    Male         16     Partnered      4        5   92131   \n",
       "174   KP781   38    Male         18     Partnered      5        5  104581   \n",
       "175   KP781   40    Male         21        Single      6        5   83416   \n",
       "177   KP781   45    Male         16        Single      5        5   90886   \n",
       "178   KP781   47    Male         18     Partnered      4        5  104581   \n",
       "179   KP781   48    Male         18     Partnered      4        5   95508   \n",
       "\n",
       "     Miles           age_group  \n",
       "23     188        Young Adults  \n",
       "61     169              Adults  \n",
       "141    120        Young Adults  \n",
       "142    200        Young Adults  \n",
       "143    140        Young Adults  \n",
       "145    100        Young Adults  \n",
       "146    100        Young Adults  \n",
       "147     80        Young Adults  \n",
       "148    200        Young Adults  \n",
       "149    160        Young Adults  \n",
       "150    120        Young Adults  \n",
       "152    200        Young Adults  \n",
       "155    240        Young Adults  \n",
       "156    170        Young Adults  \n",
       "159    160              Adults  \n",
       "162    180              Adults  \n",
       "163    180              Adults  \n",
       "164    150              Adults  \n",
       "165    180              Adults  \n",
       "166    300              Adults  \n",
       "167    280              Adults  \n",
       "169    150              Adults  \n",
       "170    260              Adults  \n",
       "171    200              Adults  \n",
       "172    150              Adults  \n",
       "173    360              Adults  \n",
       "174    150  Middle Aged Adults  \n",
       "175    200  Middle Aged Adults  \n",
       "177    160  Middle Aged Adults  \n",
       "178    120               Elder  \n",
       "179    180               Elder  "
      ]
     },
     "execution_count": 14,
     "metadata": {},
     "output_type": "execute_result"
    }
   ],
   "source": [
    "data[data['Fitness'] > 4.5]"
   ]
  },
  {
   "cell_type": "code",
   "execution_count": 15,
   "metadata": {
    "colab": {
     "base_uri": "https://localhost:8080/",
     "height": 1000
    },
    "id": "n5i7txLs3Ne-",
    "outputId": "b04fd544-7611-47b7-abf1-728f777a66eb"
   },
   "outputs": [
    {
     "data": {
      "text/html": [
       "<div>\n",
       "<style scoped>\n",
       "    .dataframe tbody tr th:only-of-type {\n",
       "        vertical-align: middle;\n",
       "    }\n",
       "\n",
       "    .dataframe tbody tr th {\n",
       "        vertical-align: top;\n",
       "    }\n",
       "\n",
       "    .dataframe thead th {\n",
       "        text-align: right;\n",
       "    }\n",
       "</style>\n",
       "<table border=\"1\" class=\"dataframe\">\n",
       "  <thead>\n",
       "    <tr style=\"text-align: right;\">\n",
       "      <th></th>\n",
       "      <th>Product</th>\n",
       "      <th>Age</th>\n",
       "      <th>Gender</th>\n",
       "      <th>Education</th>\n",
       "      <th>MaritalStatus</th>\n",
       "      <th>Usage</th>\n",
       "      <th>Fitness</th>\n",
       "      <th>Income</th>\n",
       "      <th>Miles</th>\n",
       "      <th>age_group</th>\n",
       "    </tr>\n",
       "  </thead>\n",
       "  <tbody>\n",
       "    <tr>\n",
       "      <th>0</th>\n",
       "      <td>KP281</td>\n",
       "      <td>18</td>\n",
       "      <td>Male</td>\n",
       "      <td>14</td>\n",
       "      <td>Single</td>\n",
       "      <td>3</td>\n",
       "      <td>4</td>\n",
       "      <td>29562</td>\n",
       "      <td>112</td>\n",
       "      <td>Young Adults</td>\n",
       "    </tr>\n",
       "    <tr>\n",
       "      <th>8</th>\n",
       "      <td>KP281</td>\n",
       "      <td>21</td>\n",
       "      <td>Male</td>\n",
       "      <td>15</td>\n",
       "      <td>Single</td>\n",
       "      <td>5</td>\n",
       "      <td>4</td>\n",
       "      <td>35247</td>\n",
       "      <td>141</td>\n",
       "      <td>Young Adults</td>\n",
       "    </tr>\n",
       "    <tr>\n",
       "      <th>23</th>\n",
       "      <td>KP281</td>\n",
       "      <td>24</td>\n",
       "      <td>Female</td>\n",
       "      <td>16</td>\n",
       "      <td>Partnered</td>\n",
       "      <td>5</td>\n",
       "      <td>5</td>\n",
       "      <td>44343</td>\n",
       "      <td>188</td>\n",
       "      <td>Young Adults</td>\n",
       "    </tr>\n",
       "    <tr>\n",
       "      <th>31</th>\n",
       "      <td>KP281</td>\n",
       "      <td>25</td>\n",
       "      <td>Male</td>\n",
       "      <td>16</td>\n",
       "      <td>Single</td>\n",
       "      <td>3</td>\n",
       "      <td>4</td>\n",
       "      <td>40932</td>\n",
       "      <td>113</td>\n",
       "      <td>Young Adults</td>\n",
       "    </tr>\n",
       "    <tr>\n",
       "      <th>34</th>\n",
       "      <td>KP281</td>\n",
       "      <td>26</td>\n",
       "      <td>Female</td>\n",
       "      <td>14</td>\n",
       "      <td>Partnered</td>\n",
       "      <td>3</td>\n",
       "      <td>4</td>\n",
       "      <td>44343</td>\n",
       "      <td>113</td>\n",
       "      <td>Adults</td>\n",
       "    </tr>\n",
       "    <tr>\n",
       "      <th>39</th>\n",
       "      <td>KP281</td>\n",
       "      <td>26</td>\n",
       "      <td>Male</td>\n",
       "      <td>16</td>\n",
       "      <td>Partnered</td>\n",
       "      <td>4</td>\n",
       "      <td>4</td>\n",
       "      <td>44343</td>\n",
       "      <td>132</td>\n",
       "      <td>Adults</td>\n",
       "    </tr>\n",
       "    <tr>\n",
       "      <th>53</th>\n",
       "      <td>KP281</td>\n",
       "      <td>30</td>\n",
       "      <td>Male</td>\n",
       "      <td>14</td>\n",
       "      <td>Partnered</td>\n",
       "      <td>4</td>\n",
       "      <td>4</td>\n",
       "      <td>46617</td>\n",
       "      <td>141</td>\n",
       "      <td>Adults</td>\n",
       "    </tr>\n",
       "    <tr>\n",
       "      <th>57</th>\n",
       "      <td>KP281</td>\n",
       "      <td>32</td>\n",
       "      <td>Female</td>\n",
       "      <td>14</td>\n",
       "      <td>Single</td>\n",
       "      <td>3</td>\n",
       "      <td>4</td>\n",
       "      <td>46617</td>\n",
       "      <td>113</td>\n",
       "      <td>Adults</td>\n",
       "    </tr>\n",
       "    <tr>\n",
       "      <th>61</th>\n",
       "      <td>KP281</td>\n",
       "      <td>34</td>\n",
       "      <td>Male</td>\n",
       "      <td>16</td>\n",
       "      <td>Single</td>\n",
       "      <td>4</td>\n",
       "      <td>5</td>\n",
       "      <td>51165</td>\n",
       "      <td>169</td>\n",
       "      <td>Adults</td>\n",
       "    </tr>\n",
       "    <tr>\n",
       "      <th>72</th>\n",
       "      <td>KP281</td>\n",
       "      <td>39</td>\n",
       "      <td>Male</td>\n",
       "      <td>16</td>\n",
       "      <td>Partnered</td>\n",
       "      <td>4</td>\n",
       "      <td>4</td>\n",
       "      <td>59124</td>\n",
       "      <td>132</td>\n",
       "      <td>Middle Aged Adults</td>\n",
       "    </tr>\n",
       "    <tr>\n",
       "      <th>76</th>\n",
       "      <td>KP281</td>\n",
       "      <td>44</td>\n",
       "      <td>Female</td>\n",
       "      <td>16</td>\n",
       "      <td>Single</td>\n",
       "      <td>3</td>\n",
       "      <td>4</td>\n",
       "      <td>57987</td>\n",
       "      <td>75</td>\n",
       "      <td>Middle Aged Adults</td>\n",
       "    </tr>\n",
       "    <tr>\n",
       "      <th>84</th>\n",
       "      <td>KP481</td>\n",
       "      <td>21</td>\n",
       "      <td>Female</td>\n",
       "      <td>14</td>\n",
       "      <td>Partnered</td>\n",
       "      <td>5</td>\n",
       "      <td>4</td>\n",
       "      <td>34110</td>\n",
       "      <td>212</td>\n",
       "      <td>Young Adults</td>\n",
       "    </tr>\n",
       "    <tr>\n",
       "      <th>95</th>\n",
       "      <td>KP481</td>\n",
       "      <td>24</td>\n",
       "      <td>Male</td>\n",
       "      <td>14</td>\n",
       "      <td>Single</td>\n",
       "      <td>3</td>\n",
       "      <td>4</td>\n",
       "      <td>48891</td>\n",
       "      <td>106</td>\n",
       "      <td>Young Adults</td>\n",
       "    </tr>\n",
       "    <tr>\n",
       "      <th>98</th>\n",
       "      <td>KP481</td>\n",
       "      <td>25</td>\n",
       "      <td>Female</td>\n",
       "      <td>14</td>\n",
       "      <td>Single</td>\n",
       "      <td>3</td>\n",
       "      <td>4</td>\n",
       "      <td>43206</td>\n",
       "      <td>127</td>\n",
       "      <td>Young Adults</td>\n",
       "    </tr>\n",
       "    <tr>\n",
       "      <th>104</th>\n",
       "      <td>KP481</td>\n",
       "      <td>25</td>\n",
       "      <td>Male</td>\n",
       "      <td>14</td>\n",
       "      <td>Partnered</td>\n",
       "      <td>3</td>\n",
       "      <td>4</td>\n",
       "      <td>43206</td>\n",
       "      <td>106</td>\n",
       "      <td>Young Adults</td>\n",
       "    </tr>\n",
       "    <tr>\n",
       "      <th>109</th>\n",
       "      <td>KP481</td>\n",
       "      <td>26</td>\n",
       "      <td>Female</td>\n",
       "      <td>16</td>\n",
       "      <td>Single</td>\n",
       "      <td>4</td>\n",
       "      <td>4</td>\n",
       "      <td>50028</td>\n",
       "      <td>127</td>\n",
       "      <td>Adults</td>\n",
       "    </tr>\n",
       "    <tr>\n",
       "      <th>120</th>\n",
       "      <td>KP481</td>\n",
       "      <td>33</td>\n",
       "      <td>Male</td>\n",
       "      <td>13</td>\n",
       "      <td>Partnered</td>\n",
       "      <td>4</td>\n",
       "      <td>4</td>\n",
       "      <td>53439</td>\n",
       "      <td>170</td>\n",
       "      <td>Adults</td>\n",
       "    </tr>\n",
       "    <tr>\n",
       "      <th>124</th>\n",
       "      <td>KP481</td>\n",
       "      <td>33</td>\n",
       "      <td>Female</td>\n",
       "      <td>18</td>\n",
       "      <td>Single</td>\n",
       "      <td>3</td>\n",
       "      <td>4</td>\n",
       "      <td>47754</td>\n",
       "      <td>74</td>\n",
       "      <td>Adults</td>\n",
       "    </tr>\n",
       "    <tr>\n",
       "      <th>126</th>\n",
       "      <td>KP481</td>\n",
       "      <td>34</td>\n",
       "      <td>Male</td>\n",
       "      <td>16</td>\n",
       "      <td>Partnered</td>\n",
       "      <td>3</td>\n",
       "      <td>4</td>\n",
       "      <td>59124</td>\n",
       "      <td>85</td>\n",
       "      <td>Adults</td>\n",
       "    </tr>\n",
       "    <tr>\n",
       "      <th>141</th>\n",
       "      <td>KP781</td>\n",
       "      <td>22</td>\n",
       "      <td>Male</td>\n",
       "      <td>16</td>\n",
       "      <td>Single</td>\n",
       "      <td>3</td>\n",
       "      <td>5</td>\n",
       "      <td>54781</td>\n",
       "      <td>120</td>\n",
       "      <td>Young Adults</td>\n",
       "    </tr>\n",
       "    <tr>\n",
       "      <th>142</th>\n",
       "      <td>KP781</td>\n",
       "      <td>22</td>\n",
       "      <td>Male</td>\n",
       "      <td>18</td>\n",
       "      <td>Single</td>\n",
       "      <td>4</td>\n",
       "      <td>5</td>\n",
       "      <td>48556</td>\n",
       "      <td>200</td>\n",
       "      <td>Young Adults</td>\n",
       "    </tr>\n",
       "    <tr>\n",
       "      <th>143</th>\n",
       "      <td>KP781</td>\n",
       "      <td>23</td>\n",
       "      <td>Male</td>\n",
       "      <td>16</td>\n",
       "      <td>Single</td>\n",
       "      <td>4</td>\n",
       "      <td>5</td>\n",
       "      <td>58516</td>\n",
       "      <td>140</td>\n",
       "      <td>Young Adults</td>\n",
       "    </tr>\n",
       "    <tr>\n",
       "      <th>144</th>\n",
       "      <td>KP781</td>\n",
       "      <td>23</td>\n",
       "      <td>Female</td>\n",
       "      <td>18</td>\n",
       "      <td>Single</td>\n",
       "      <td>5</td>\n",
       "      <td>4</td>\n",
       "      <td>53536</td>\n",
       "      <td>100</td>\n",
       "      <td>Young Adults</td>\n",
       "    </tr>\n",
       "    <tr>\n",
       "      <th>145</th>\n",
       "      <td>KP781</td>\n",
       "      <td>23</td>\n",
       "      <td>Male</td>\n",
       "      <td>16</td>\n",
       "      <td>Single</td>\n",
       "      <td>4</td>\n",
       "      <td>5</td>\n",
       "      <td>48556</td>\n",
       "      <td>100</td>\n",
       "      <td>Young Adults</td>\n",
       "    </tr>\n",
       "    <tr>\n",
       "      <th>146</th>\n",
       "      <td>KP781</td>\n",
       "      <td>24</td>\n",
       "      <td>Male</td>\n",
       "      <td>16</td>\n",
       "      <td>Single</td>\n",
       "      <td>4</td>\n",
       "      <td>5</td>\n",
       "      <td>61006</td>\n",
       "      <td>100</td>\n",
       "      <td>Young Adults</td>\n",
       "    </tr>\n",
       "    <tr>\n",
       "      <th>147</th>\n",
       "      <td>KP781</td>\n",
       "      <td>24</td>\n",
       "      <td>Male</td>\n",
       "      <td>18</td>\n",
       "      <td>Partnered</td>\n",
       "      <td>4</td>\n",
       "      <td>5</td>\n",
       "      <td>57271</td>\n",
       "      <td>80</td>\n",
       "      <td>Young Adults</td>\n",
       "    </tr>\n",
       "    <tr>\n",
       "      <th>148</th>\n",
       "      <td>KP781</td>\n",
       "      <td>24</td>\n",
       "      <td>Female</td>\n",
       "      <td>16</td>\n",
       "      <td>Single</td>\n",
       "      <td>5</td>\n",
       "      <td>5</td>\n",
       "      <td>52291</td>\n",
       "      <td>200</td>\n",
       "      <td>Young Adults</td>\n",
       "    </tr>\n",
       "    <tr>\n",
       "      <th>149</th>\n",
       "      <td>KP781</td>\n",
       "      <td>24</td>\n",
       "      <td>Male</td>\n",
       "      <td>16</td>\n",
       "      <td>Single</td>\n",
       "      <td>5</td>\n",
       "      <td>5</td>\n",
       "      <td>49801</td>\n",
       "      <td>160</td>\n",
       "      <td>Young Adults</td>\n",
       "    </tr>\n",
       "    <tr>\n",
       "      <th>150</th>\n",
       "      <td>KP781</td>\n",
       "      <td>25</td>\n",
       "      <td>Male</td>\n",
       "      <td>16</td>\n",
       "      <td>Partnered</td>\n",
       "      <td>4</td>\n",
       "      <td>5</td>\n",
       "      <td>49801</td>\n",
       "      <td>120</td>\n",
       "      <td>Young Adults</td>\n",
       "    </tr>\n",
       "    <tr>\n",
       "      <th>151</th>\n",
       "      <td>KP781</td>\n",
       "      <td>25</td>\n",
       "      <td>Male</td>\n",
       "      <td>16</td>\n",
       "      <td>Partnered</td>\n",
       "      <td>4</td>\n",
       "      <td>4</td>\n",
       "      <td>62251</td>\n",
       "      <td>160</td>\n",
       "      <td>Young Adults</td>\n",
       "    </tr>\n",
       "    <tr>\n",
       "      <th>152</th>\n",
       "      <td>KP781</td>\n",
       "      <td>25</td>\n",
       "      <td>Female</td>\n",
       "      <td>18</td>\n",
       "      <td>Partnered</td>\n",
       "      <td>5</td>\n",
       "      <td>5</td>\n",
       "      <td>61006</td>\n",
       "      <td>200</td>\n",
       "      <td>Young Adults</td>\n",
       "    </tr>\n",
       "    <tr>\n",
       "      <th>154</th>\n",
       "      <td>KP781</td>\n",
       "      <td>25</td>\n",
       "      <td>Male</td>\n",
       "      <td>18</td>\n",
       "      <td>Partnered</td>\n",
       "      <td>6</td>\n",
       "      <td>4</td>\n",
       "      <td>70966</td>\n",
       "      <td>180</td>\n",
       "      <td>Young Adults</td>\n",
       "    </tr>\n",
       "    <tr>\n",
       "      <th>155</th>\n",
       "      <td>KP781</td>\n",
       "      <td>25</td>\n",
       "      <td>Male</td>\n",
       "      <td>18</td>\n",
       "      <td>Partnered</td>\n",
       "      <td>6</td>\n",
       "      <td>5</td>\n",
       "      <td>75946</td>\n",
       "      <td>240</td>\n",
       "      <td>Young Adults</td>\n",
       "    </tr>\n",
       "    <tr>\n",
       "      <th>156</th>\n",
       "      <td>KP781</td>\n",
       "      <td>25</td>\n",
       "      <td>Male</td>\n",
       "      <td>20</td>\n",
       "      <td>Partnered</td>\n",
       "      <td>4</td>\n",
       "      <td>5</td>\n",
       "      <td>74701</td>\n",
       "      <td>170</td>\n",
       "      <td>Young Adults</td>\n",
       "    </tr>\n",
       "    <tr>\n",
       "      <th>158</th>\n",
       "      <td>KP781</td>\n",
       "      <td>26</td>\n",
       "      <td>Male</td>\n",
       "      <td>16</td>\n",
       "      <td>Partnered</td>\n",
       "      <td>5</td>\n",
       "      <td>4</td>\n",
       "      <td>64741</td>\n",
       "      <td>180</td>\n",
       "      <td>Adults</td>\n",
       "    </tr>\n",
       "    <tr>\n",
       "      <th>159</th>\n",
       "      <td>KP781</td>\n",
       "      <td>27</td>\n",
       "      <td>Male</td>\n",
       "      <td>16</td>\n",
       "      <td>Partnered</td>\n",
       "      <td>4</td>\n",
       "      <td>5</td>\n",
       "      <td>83416</td>\n",
       "      <td>160</td>\n",
       "      <td>Adults</td>\n",
       "    </tr>\n",
       "    <tr>\n",
       "      <th>161</th>\n",
       "      <td>KP781</td>\n",
       "      <td>27</td>\n",
       "      <td>Male</td>\n",
       "      <td>21</td>\n",
       "      <td>Partnered</td>\n",
       "      <td>4</td>\n",
       "      <td>4</td>\n",
       "      <td>90886</td>\n",
       "      <td>100</td>\n",
       "      <td>Adults</td>\n",
       "    </tr>\n",
       "    <tr>\n",
       "      <th>162</th>\n",
       "      <td>KP781</td>\n",
       "      <td>28</td>\n",
       "      <td>Female</td>\n",
       "      <td>18</td>\n",
       "      <td>Partnered</td>\n",
       "      <td>6</td>\n",
       "      <td>5</td>\n",
       "      <td>92131</td>\n",
       "      <td>180</td>\n",
       "      <td>Adults</td>\n",
       "    </tr>\n",
       "    <tr>\n",
       "      <th>163</th>\n",
       "      <td>KP781</td>\n",
       "      <td>28</td>\n",
       "      <td>Male</td>\n",
       "      <td>18</td>\n",
       "      <td>Partnered</td>\n",
       "      <td>7</td>\n",
       "      <td>5</td>\n",
       "      <td>77191</td>\n",
       "      <td>180</td>\n",
       "      <td>Adults</td>\n",
       "    </tr>\n",
       "    <tr>\n",
       "      <th>164</th>\n",
       "      <td>KP781</td>\n",
       "      <td>28</td>\n",
       "      <td>Male</td>\n",
       "      <td>18</td>\n",
       "      <td>Single</td>\n",
       "      <td>6</td>\n",
       "      <td>5</td>\n",
       "      <td>88396</td>\n",
       "      <td>150</td>\n",
       "      <td>Adults</td>\n",
       "    </tr>\n",
       "    <tr>\n",
       "      <th>165</th>\n",
       "      <td>KP781</td>\n",
       "      <td>29</td>\n",
       "      <td>Male</td>\n",
       "      <td>18</td>\n",
       "      <td>Single</td>\n",
       "      <td>5</td>\n",
       "      <td>5</td>\n",
       "      <td>52290</td>\n",
       "      <td>180</td>\n",
       "      <td>Adults</td>\n",
       "    </tr>\n",
       "    <tr>\n",
       "      <th>166</th>\n",
       "      <td>KP781</td>\n",
       "      <td>29</td>\n",
       "      <td>Male</td>\n",
       "      <td>14</td>\n",
       "      <td>Partnered</td>\n",
       "      <td>7</td>\n",
       "      <td>5</td>\n",
       "      <td>85906</td>\n",
       "      <td>300</td>\n",
       "      <td>Adults</td>\n",
       "    </tr>\n",
       "    <tr>\n",
       "      <th>167</th>\n",
       "      <td>KP781</td>\n",
       "      <td>30</td>\n",
       "      <td>Female</td>\n",
       "      <td>16</td>\n",
       "      <td>Partnered</td>\n",
       "      <td>6</td>\n",
       "      <td>5</td>\n",
       "      <td>90886</td>\n",
       "      <td>280</td>\n",
       "      <td>Adults</td>\n",
       "    </tr>\n",
       "    <tr>\n",
       "      <th>168</th>\n",
       "      <td>KP781</td>\n",
       "      <td>30</td>\n",
       "      <td>Male</td>\n",
       "      <td>18</td>\n",
       "      <td>Partnered</td>\n",
       "      <td>5</td>\n",
       "      <td>4</td>\n",
       "      <td>103336</td>\n",
       "      <td>160</td>\n",
       "      <td>Adults</td>\n",
       "    </tr>\n",
       "    <tr>\n",
       "      <th>169</th>\n",
       "      <td>KP781</td>\n",
       "      <td>30</td>\n",
       "      <td>Male</td>\n",
       "      <td>18</td>\n",
       "      <td>Partnered</td>\n",
       "      <td>5</td>\n",
       "      <td>5</td>\n",
       "      <td>99601</td>\n",
       "      <td>150</td>\n",
       "      <td>Adults</td>\n",
       "    </tr>\n",
       "    <tr>\n",
       "      <th>170</th>\n",
       "      <td>KP781</td>\n",
       "      <td>31</td>\n",
       "      <td>Male</td>\n",
       "      <td>16</td>\n",
       "      <td>Partnered</td>\n",
       "      <td>6</td>\n",
       "      <td>5</td>\n",
       "      <td>89641</td>\n",
       "      <td>260</td>\n",
       "      <td>Adults</td>\n",
       "    </tr>\n",
       "    <tr>\n",
       "      <th>171</th>\n",
       "      <td>KP781</td>\n",
       "      <td>33</td>\n",
       "      <td>Female</td>\n",
       "      <td>18</td>\n",
       "      <td>Partnered</td>\n",
       "      <td>4</td>\n",
       "      <td>5</td>\n",
       "      <td>95866</td>\n",
       "      <td>200</td>\n",
       "      <td>Adults</td>\n",
       "    </tr>\n",
       "    <tr>\n",
       "      <th>172</th>\n",
       "      <td>KP781</td>\n",
       "      <td>34</td>\n",
       "      <td>Male</td>\n",
       "      <td>16</td>\n",
       "      <td>Single</td>\n",
       "      <td>5</td>\n",
       "      <td>5</td>\n",
       "      <td>92131</td>\n",
       "      <td>150</td>\n",
       "      <td>Adults</td>\n",
       "    </tr>\n",
       "    <tr>\n",
       "      <th>173</th>\n",
       "      <td>KP781</td>\n",
       "      <td>35</td>\n",
       "      <td>Male</td>\n",
       "      <td>16</td>\n",
       "      <td>Partnered</td>\n",
       "      <td>4</td>\n",
       "      <td>5</td>\n",
       "      <td>92131</td>\n",
       "      <td>360</td>\n",
       "      <td>Adults</td>\n",
       "    </tr>\n",
       "    <tr>\n",
       "      <th>174</th>\n",
       "      <td>KP781</td>\n",
       "      <td>38</td>\n",
       "      <td>Male</td>\n",
       "      <td>18</td>\n",
       "      <td>Partnered</td>\n",
       "      <td>5</td>\n",
       "      <td>5</td>\n",
       "      <td>104581</td>\n",
       "      <td>150</td>\n",
       "      <td>Middle Aged Adults</td>\n",
       "    </tr>\n",
       "    <tr>\n",
       "      <th>175</th>\n",
       "      <td>KP781</td>\n",
       "      <td>40</td>\n",
       "      <td>Male</td>\n",
       "      <td>21</td>\n",
       "      <td>Single</td>\n",
       "      <td>6</td>\n",
       "      <td>5</td>\n",
       "      <td>83416</td>\n",
       "      <td>200</td>\n",
       "      <td>Middle Aged Adults</td>\n",
       "    </tr>\n",
       "    <tr>\n",
       "      <th>176</th>\n",
       "      <td>KP781</td>\n",
       "      <td>42</td>\n",
       "      <td>Male</td>\n",
       "      <td>18</td>\n",
       "      <td>Single</td>\n",
       "      <td>5</td>\n",
       "      <td>4</td>\n",
       "      <td>89641</td>\n",
       "      <td>200</td>\n",
       "      <td>Middle Aged Adults</td>\n",
       "    </tr>\n",
       "    <tr>\n",
       "      <th>177</th>\n",
       "      <td>KP781</td>\n",
       "      <td>45</td>\n",
       "      <td>Male</td>\n",
       "      <td>16</td>\n",
       "      <td>Single</td>\n",
       "      <td>5</td>\n",
       "      <td>5</td>\n",
       "      <td>90886</td>\n",
       "      <td>160</td>\n",
       "      <td>Middle Aged Adults</td>\n",
       "    </tr>\n",
       "    <tr>\n",
       "      <th>178</th>\n",
       "      <td>KP781</td>\n",
       "      <td>47</td>\n",
       "      <td>Male</td>\n",
       "      <td>18</td>\n",
       "      <td>Partnered</td>\n",
       "      <td>4</td>\n",
       "      <td>5</td>\n",
       "      <td>104581</td>\n",
       "      <td>120</td>\n",
       "      <td>Elder</td>\n",
       "    </tr>\n",
       "    <tr>\n",
       "      <th>179</th>\n",
       "      <td>KP781</td>\n",
       "      <td>48</td>\n",
       "      <td>Male</td>\n",
       "      <td>18</td>\n",
       "      <td>Partnered</td>\n",
       "      <td>4</td>\n",
       "      <td>5</td>\n",
       "      <td>95508</td>\n",
       "      <td>180</td>\n",
       "      <td>Elder</td>\n",
       "    </tr>\n",
       "  </tbody>\n",
       "</table>\n",
       "</div>"
      ],
      "text/plain": [
       "    Product  Age  Gender  Education MaritalStatus  Usage  Fitness  Income  \\\n",
       "0     KP281   18    Male         14        Single      3        4   29562   \n",
       "8     KP281   21    Male         15        Single      5        4   35247   \n",
       "23    KP281   24  Female         16     Partnered      5        5   44343   \n",
       "31    KP281   25    Male         16        Single      3        4   40932   \n",
       "34    KP281   26  Female         14     Partnered      3        4   44343   \n",
       "39    KP281   26    Male         16     Partnered      4        4   44343   \n",
       "53    KP281   30    Male         14     Partnered      4        4   46617   \n",
       "57    KP281   32  Female         14        Single      3        4   46617   \n",
       "61    KP281   34    Male         16        Single      4        5   51165   \n",
       "72    KP281   39    Male         16     Partnered      4        4   59124   \n",
       "76    KP281   44  Female         16        Single      3        4   57987   \n",
       "84    KP481   21  Female         14     Partnered      5        4   34110   \n",
       "95    KP481   24    Male         14        Single      3        4   48891   \n",
       "98    KP481   25  Female         14        Single      3        4   43206   \n",
       "104   KP481   25    Male         14     Partnered      3        4   43206   \n",
       "109   KP481   26  Female         16        Single      4        4   50028   \n",
       "120   KP481   33    Male         13     Partnered      4        4   53439   \n",
       "124   KP481   33  Female         18        Single      3        4   47754   \n",
       "126   KP481   34    Male         16     Partnered      3        4   59124   \n",
       "141   KP781   22    Male         16        Single      3        5   54781   \n",
       "142   KP781   22    Male         18        Single      4        5   48556   \n",
       "143   KP781   23    Male         16        Single      4        5   58516   \n",
       "144   KP781   23  Female         18        Single      5        4   53536   \n",
       "145   KP781   23    Male         16        Single      4        5   48556   \n",
       "146   KP781   24    Male         16        Single      4        5   61006   \n",
       "147   KP781   24    Male         18     Partnered      4        5   57271   \n",
       "148   KP781   24  Female         16        Single      5        5   52291   \n",
       "149   KP781   24    Male         16        Single      5        5   49801   \n",
       "150   KP781   25    Male         16     Partnered      4        5   49801   \n",
       "151   KP781   25    Male         16     Partnered      4        4   62251   \n",
       "152   KP781   25  Female         18     Partnered      5        5   61006   \n",
       "154   KP781   25    Male         18     Partnered      6        4   70966   \n",
       "155   KP781   25    Male         18     Partnered      6        5   75946   \n",
       "156   KP781   25    Male         20     Partnered      4        5   74701   \n",
       "158   KP781   26    Male         16     Partnered      5        4   64741   \n",
       "159   KP781   27    Male         16     Partnered      4        5   83416   \n",
       "161   KP781   27    Male         21     Partnered      4        4   90886   \n",
       "162   KP781   28  Female         18     Partnered      6        5   92131   \n",
       "163   KP781   28    Male         18     Partnered      7        5   77191   \n",
       "164   KP781   28    Male         18        Single      6        5   88396   \n",
       "165   KP781   29    Male         18        Single      5        5   52290   \n",
       "166   KP781   29    Male         14     Partnered      7        5   85906   \n",
       "167   KP781   30  Female         16     Partnered      6        5   90886   \n",
       "168   KP781   30    Male         18     Partnered      5        4  103336   \n",
       "169   KP781   30    Male         18     Partnered      5        5   99601   \n",
       "170   KP781   31    Male         16     Partnered      6        5   89641   \n",
       "171   KP781   33  Female         18     Partnered      4        5   95866   \n",
       "172   KP781   34    Male         16        Single      5        5   92131   \n",
       "173   KP781   35    Male         16     Partnered      4        5   92131   \n",
       "174   KP781   38    Male         18     Partnered      5        5  104581   \n",
       "175   KP781   40    Male         21        Single      6        5   83416   \n",
       "176   KP781   42    Male         18        Single      5        4   89641   \n",
       "177   KP781   45    Male         16        Single      5        5   90886   \n",
       "178   KP781   47    Male         18     Partnered      4        5  104581   \n",
       "179   KP781   48    Male         18     Partnered      4        5   95508   \n",
       "\n",
       "     Miles           age_group  \n",
       "0      112        Young Adults  \n",
       "8      141        Young Adults  \n",
       "23     188        Young Adults  \n",
       "31     113        Young Adults  \n",
       "34     113              Adults  \n",
       "39     132              Adults  \n",
       "53     141              Adults  \n",
       "57     113              Adults  \n",
       "61     169              Adults  \n",
       "72     132  Middle Aged Adults  \n",
       "76      75  Middle Aged Adults  \n",
       "84     212        Young Adults  \n",
       "95     106        Young Adults  \n",
       "98     127        Young Adults  \n",
       "104    106        Young Adults  \n",
       "109    127              Adults  \n",
       "120    170              Adults  \n",
       "124     74              Adults  \n",
       "126     85              Adults  \n",
       "141    120        Young Adults  \n",
       "142    200        Young Adults  \n",
       "143    140        Young Adults  \n",
       "144    100        Young Adults  \n",
       "145    100        Young Adults  \n",
       "146    100        Young Adults  \n",
       "147     80        Young Adults  \n",
       "148    200        Young Adults  \n",
       "149    160        Young Adults  \n",
       "150    120        Young Adults  \n",
       "151    160        Young Adults  \n",
       "152    200        Young Adults  \n",
       "154    180        Young Adults  \n",
       "155    240        Young Adults  \n",
       "156    170        Young Adults  \n",
       "158    180              Adults  \n",
       "159    160              Adults  \n",
       "161    100              Adults  \n",
       "162    180              Adults  \n",
       "163    180              Adults  \n",
       "164    150              Adults  \n",
       "165    180              Adults  \n",
       "166    300              Adults  \n",
       "167    280              Adults  \n",
       "168    160              Adults  \n",
       "169    150              Adults  \n",
       "170    260              Adults  \n",
       "171    200              Adults  \n",
       "172    150              Adults  \n",
       "173    360              Adults  \n",
       "174    150  Middle Aged Adults  \n",
       "175    200  Middle Aged Adults  \n",
       "176    200  Middle Aged Adults  \n",
       "177    160  Middle Aged Adults  \n",
       "178    120               Elder  \n",
       "179    180               Elder  "
      ]
     },
     "execution_count": 15,
     "metadata": {},
     "output_type": "execute_result"
    }
   ],
   "source": [
    "# lets extract people who have rated themselves in fitness as >= 4 and observe what machine they have\n",
    "data[data['Fitness'] >= 4]"
   ]
  },
  {
   "cell_type": "code",
   "execution_count": 16,
   "metadata": {
    "colab": {
     "base_uri": "https://localhost:8080/",
     "height": 300
    },
    "id": "IKdH6OyC4FiK",
    "outputId": "22f56bba-46c4-4c13-f37d-42a5c3b50d88"
   },
   "outputs": [
    {
     "data": {
      "text/html": [
       "<div>\n",
       "<style scoped>\n",
       "    .dataframe tbody tr th:only-of-type {\n",
       "        vertical-align: middle;\n",
       "    }\n",
       "\n",
       "    .dataframe tbody tr th {\n",
       "        vertical-align: top;\n",
       "    }\n",
       "\n",
       "    .dataframe thead th {\n",
       "        text-align: right;\n",
       "    }\n",
       "</style>\n",
       "<table border=\"1\" class=\"dataframe\">\n",
       "  <thead>\n",
       "    <tr style=\"text-align: right;\">\n",
       "      <th></th>\n",
       "      <th>Age</th>\n",
       "      <th>Education</th>\n",
       "      <th>Usage</th>\n",
       "      <th>Fitness</th>\n",
       "      <th>Income</th>\n",
       "      <th>Miles</th>\n",
       "    </tr>\n",
       "  </thead>\n",
       "  <tbody>\n",
       "    <tr>\n",
       "      <th>count</th>\n",
       "      <td>4.000000</td>\n",
       "      <td>4.000000</td>\n",
       "      <td>4.0</td>\n",
       "      <td>4.0</td>\n",
       "      <td>4.000000</td>\n",
       "      <td>4.0</td>\n",
       "    </tr>\n",
       "    <tr>\n",
       "      <th>mean</th>\n",
       "      <td>25.000000</td>\n",
       "      <td>17.750000</td>\n",
       "      <td>4.0</td>\n",
       "      <td>3.0</td>\n",
       "      <td>67879.000000</td>\n",
       "      <td>101.5</td>\n",
       "    </tr>\n",
       "    <tr>\n",
       "      <th>std</th>\n",
       "      <td>2.160247</td>\n",
       "      <td>2.872281</td>\n",
       "      <td>0.0</td>\n",
       "      <td>0.0</td>\n",
       "      <td>16366.980357</td>\n",
       "      <td>3.0</td>\n",
       "    </tr>\n",
       "    <tr>\n",
       "      <th>min</th>\n",
       "      <td>22.000000</td>\n",
       "      <td>14.000000</td>\n",
       "      <td>4.0</td>\n",
       "      <td>3.0</td>\n",
       "      <td>48658.000000</td>\n",
       "      <td>100.0</td>\n",
       "    </tr>\n",
       "    <tr>\n",
       "      <th>25%</th>\n",
       "      <td>24.250000</td>\n",
       "      <td>17.000000</td>\n",
       "      <td>4.0</td>\n",
       "      <td>3.0</td>\n",
       "      <td>60720.250000</td>\n",
       "      <td>100.0</td>\n",
       "    </tr>\n",
       "    <tr>\n",
       "      <th>50%</th>\n",
       "      <td>25.500000</td>\n",
       "      <td>18.000000</td>\n",
       "      <td>4.0</td>\n",
       "      <td>3.0</td>\n",
       "      <td>67231.000000</td>\n",
       "      <td>100.0</td>\n",
       "    </tr>\n",
       "    <tr>\n",
       "      <th>75%</th>\n",
       "      <td>26.250000</td>\n",
       "      <td>18.750000</td>\n",
       "      <td>4.0</td>\n",
       "      <td>3.0</td>\n",
       "      <td>74389.750000</td>\n",
       "      <td>101.5</td>\n",
       "    </tr>\n",
       "    <tr>\n",
       "      <th>max</th>\n",
       "      <td>27.000000</td>\n",
       "      <td>21.000000</td>\n",
       "      <td>4.0</td>\n",
       "      <td>3.0</td>\n",
       "      <td>88396.000000</td>\n",
       "      <td>106.0</td>\n",
       "    </tr>\n",
       "  </tbody>\n",
       "</table>\n",
       "</div>"
      ],
      "text/plain": [
       "             Age  Education  Usage  Fitness        Income  Miles\n",
       "count   4.000000   4.000000    4.0      4.0      4.000000    4.0\n",
       "mean   25.000000  17.750000    4.0      3.0  67879.000000  101.5\n",
       "std     2.160247   2.872281    0.0      0.0  16366.980357    3.0\n",
       "min    22.000000  14.000000    4.0      3.0  48658.000000  100.0\n",
       "25%    24.250000  17.000000    4.0      3.0  60720.250000  100.0\n",
       "50%    25.500000  18.000000    4.0      3.0  67231.000000  100.0\n",
       "75%    26.250000  18.750000    4.0      3.0  74389.750000  101.5\n",
       "max    27.000000  21.000000    4.0      3.0  88396.000000  106.0"
      ]
     },
     "execution_count": 16,
     "metadata": {},
     "output_type": "execute_result"
    }
   ],
   "source": [
    "# lets get the number of people who have bought KP781 and mark their fitness as 3\n",
    "fitness3_KP781 = data[(data['Fitness'] == 3) & (data['Product'] == 'KP781')].describe()\n",
    "fitness3_KP781"
   ]
  },
  {
   "cell_type": "code",
   "execution_count": 17,
   "metadata": {
    "colab": {
     "base_uri": "https://localhost:8080/",
     "height": 141
    },
    "id": "eNsii56o4uzV",
    "outputId": "15758529-6d88-4021-8eae-e9a73ffcdb03"
   },
   "outputs": [
    {
     "data": {
      "text/plain": [
       "(97, 10)"
      ]
     },
     "execution_count": 17,
     "metadata": {},
     "output_type": "execute_result"
    }
   ],
   "source": [
    "data[data['Fitness'] == 3].shape"
   ]
  },
  {
   "cell_type": "code",
   "execution_count": 18,
   "metadata": {
    "colab": {
     "base_uri": "https://localhost:8080/",
     "height": 318
    },
    "id": "YrD-t04a5JGr",
    "outputId": "96003432-7b39-4351-b577-e4cc32e0e8f6"
   },
   "outputs": [
    {
     "data": {
      "text/html": [
       "<div>\n",
       "<style scoped>\n",
       "    .dataframe tbody tr th:only-of-type {\n",
       "        vertical-align: middle;\n",
       "    }\n",
       "\n",
       "    .dataframe tbody tr th {\n",
       "        vertical-align: top;\n",
       "    }\n",
       "\n",
       "    .dataframe thead tr th {\n",
       "        text-align: left;\n",
       "    }\n",
       "\n",
       "    .dataframe thead tr:last-of-type th {\n",
       "        text-align: right;\n",
       "    }\n",
       "</style>\n",
       "<table border=\"1\" class=\"dataframe\">\n",
       "  <thead>\n",
       "    <tr>\n",
       "      <th></th>\n",
       "      <th colspan=\"8\" halign=\"left\">Age</th>\n",
       "      <th colspan=\"2\" halign=\"left\">Education</th>\n",
       "      <th>...</th>\n",
       "      <th colspan=\"2\" halign=\"left\">Income</th>\n",
       "      <th colspan=\"8\" halign=\"left\">Miles</th>\n",
       "    </tr>\n",
       "    <tr>\n",
       "      <th></th>\n",
       "      <th>count</th>\n",
       "      <th>mean</th>\n",
       "      <th>std</th>\n",
       "      <th>min</th>\n",
       "      <th>25%</th>\n",
       "      <th>50%</th>\n",
       "      <th>75%</th>\n",
       "      <th>max</th>\n",
       "      <th>count</th>\n",
       "      <th>mean</th>\n",
       "      <th>...</th>\n",
       "      <th>75%</th>\n",
       "      <th>max</th>\n",
       "      <th>count</th>\n",
       "      <th>mean</th>\n",
       "      <th>std</th>\n",
       "      <th>min</th>\n",
       "      <th>25%</th>\n",
       "      <th>50%</th>\n",
       "      <th>75%</th>\n",
       "      <th>max</th>\n",
       "    </tr>\n",
       "    <tr>\n",
       "      <th>Fitness</th>\n",
       "      <th></th>\n",
       "      <th></th>\n",
       "      <th></th>\n",
       "      <th></th>\n",
       "      <th></th>\n",
       "      <th></th>\n",
       "      <th></th>\n",
       "      <th></th>\n",
       "      <th></th>\n",
       "      <th></th>\n",
       "      <th></th>\n",
       "      <th></th>\n",
       "      <th></th>\n",
       "      <th></th>\n",
       "      <th></th>\n",
       "      <th></th>\n",
       "      <th></th>\n",
       "      <th></th>\n",
       "      <th></th>\n",
       "      <th></th>\n",
       "      <th></th>\n",
       "    </tr>\n",
       "  </thead>\n",
       "  <tbody>\n",
       "    <tr>\n",
       "      <th>1</th>\n",
       "      <td>2.0</td>\n",
       "      <td>27.000000</td>\n",
       "      <td>5.656854</td>\n",
       "      <td>23.0</td>\n",
       "      <td>25.00</td>\n",
       "      <td>27.0</td>\n",
       "      <td>29.00</td>\n",
       "      <td>31.0</td>\n",
       "      <td>2.0</td>\n",
       "      <td>17.000000</td>\n",
       "      <td>...</td>\n",
       "      <td>58579.50</td>\n",
       "      <td>65220.0</td>\n",
       "      <td>2.0</td>\n",
       "      <td>34.000000</td>\n",
       "      <td>18.384776</td>\n",
       "      <td>21.0</td>\n",
       "      <td>27.50</td>\n",
       "      <td>34.0</td>\n",
       "      <td>40.5</td>\n",
       "      <td>47.0</td>\n",
       "    </tr>\n",
       "    <tr>\n",
       "      <th>2</th>\n",
       "      <td>26.0</td>\n",
       "      <td>28.269231</td>\n",
       "      <td>6.885101</td>\n",
       "      <td>20.0</td>\n",
       "      <td>23.25</td>\n",
       "      <td>25.5</td>\n",
       "      <td>32.50</td>\n",
       "      <td>46.0</td>\n",
       "      <td>26.0</td>\n",
       "      <td>14.730769</td>\n",
       "      <td>...</td>\n",
       "      <td>53154.75</td>\n",
       "      <td>60261.0</td>\n",
       "      <td>26.0</td>\n",
       "      <td>51.692308</td>\n",
       "      <td>11.824616</td>\n",
       "      <td>38.0</td>\n",
       "      <td>43.25</td>\n",
       "      <td>47.0</td>\n",
       "      <td>53.0</td>\n",
       "      <td>85.0</td>\n",
       "    </tr>\n",
       "    <tr>\n",
       "      <th>3</th>\n",
       "      <td>97.0</td>\n",
       "      <td>28.752577</td>\n",
       "      <td>7.059318</td>\n",
       "      <td>19.0</td>\n",
       "      <td>23.00</td>\n",
       "      <td>26.0</td>\n",
       "      <td>33.00</td>\n",
       "      <td>50.0</td>\n",
       "      <td>97.0</td>\n",
       "      <td>15.237113</td>\n",
       "      <td>...</td>\n",
       "      <td>54576.00</td>\n",
       "      <td>88396.0</td>\n",
       "      <td>97.0</td>\n",
       "      <td>87.185567</td>\n",
       "      <td>19.203586</td>\n",
       "      <td>53.0</td>\n",
       "      <td>75.00</td>\n",
       "      <td>85.0</td>\n",
       "      <td>95.0</td>\n",
       "      <td>170.0</td>\n",
       "    </tr>\n",
       "    <tr>\n",
       "      <th>4</th>\n",
       "      <td>24.0</td>\n",
       "      <td>28.333333</td>\n",
       "      <td>6.531973</td>\n",
       "      <td>18.0</td>\n",
       "      <td>25.00</td>\n",
       "      <td>26.0</td>\n",
       "      <td>32.25</td>\n",
       "      <td>44.0</td>\n",
       "      <td>24.0</td>\n",
       "      <td>15.791667</td>\n",
       "      <td>...</td>\n",
       "      <td>59905.75</td>\n",
       "      <td>103336.0</td>\n",
       "      <td>24.0</td>\n",
       "      <td>131.625000</td>\n",
       "      <td>37.623781</td>\n",
       "      <td>74.0</td>\n",
       "      <td>106.00</td>\n",
       "      <td>127.0</td>\n",
       "      <td>160.0</td>\n",
       "      <td>212.0</td>\n",
       "    </tr>\n",
       "    <tr>\n",
       "      <th>5</th>\n",
       "      <td>31.0</td>\n",
       "      <td>29.806452</td>\n",
       "      <td>7.295749</td>\n",
       "      <td>22.0</td>\n",
       "      <td>24.00</td>\n",
       "      <td>28.0</td>\n",
       "      <td>33.50</td>\n",
       "      <td>48.0</td>\n",
       "      <td>31.0</td>\n",
       "      <td>17.064516</td>\n",
       "      <td>...</td>\n",
       "      <td>91508.50</td>\n",
       "      <td>104581.0</td>\n",
       "      <td>31.0</td>\n",
       "      <td>178.935484</td>\n",
       "      <td>60.290926</td>\n",
       "      <td>80.0</td>\n",
       "      <td>150.00</td>\n",
       "      <td>170.0</td>\n",
       "      <td>200.0</td>\n",
       "      <td>360.0</td>\n",
       "    </tr>\n",
       "  </tbody>\n",
       "</table>\n",
       "<p>5 rows × 40 columns</p>\n",
       "</div>"
      ],
      "text/plain": [
       "          Age                                                      Education  \\\n",
       "        count       mean       std   min    25%   50%    75%   max     count   \n",
       "Fitness                                                                        \n",
       "1         2.0  27.000000  5.656854  23.0  25.00  27.0  29.00  31.0       2.0   \n",
       "2        26.0  28.269231  6.885101  20.0  23.25  25.5  32.50  46.0      26.0   \n",
       "3        97.0  28.752577  7.059318  19.0  23.00  26.0  33.00  50.0      97.0   \n",
       "4        24.0  28.333333  6.531973  18.0  25.00  26.0  32.25  44.0      24.0   \n",
       "5        31.0  29.806452  7.295749  22.0  24.00  28.0  33.50  48.0      31.0   \n",
       "\n",
       "                    ...    Income           Miles                         \\\n",
       "              mean  ...       75%       max count        mean        std   \n",
       "Fitness             ...                                                    \n",
       "1        17.000000  ...  58579.50   65220.0   2.0   34.000000  18.384776   \n",
       "2        14.730769  ...  53154.75   60261.0  26.0   51.692308  11.824616   \n",
       "3        15.237113  ...  54576.00   88396.0  97.0   87.185567  19.203586   \n",
       "4        15.791667  ...  59905.75  103336.0  24.0  131.625000  37.623781   \n",
       "5        17.064516  ...  91508.50  104581.0  31.0  178.935484  60.290926   \n",
       "\n",
       "                                            \n",
       "          min     25%    50%    75%    max  \n",
       "Fitness                                     \n",
       "1        21.0   27.50   34.0   40.5   47.0  \n",
       "2        38.0   43.25   47.0   53.0   85.0  \n",
       "3        53.0   75.00   85.0   95.0  170.0  \n",
       "4        74.0  106.00  127.0  160.0  212.0  \n",
       "5        80.0  150.00  170.0  200.0  360.0  \n",
       "\n",
       "[5 rows x 40 columns]"
      ]
     },
     "execution_count": 18,
     "metadata": {},
     "output_type": "execute_result"
    }
   ],
   "source": [
    "data.groupby(by = 'Fitness').describe()"
   ]
  },
  {
   "cell_type": "code",
   "execution_count": 19,
   "metadata": {
    "colab": {
     "base_uri": "https://localhost:8080/",
     "height": 159
    },
    "id": "wBDchqzb5btn",
    "outputId": "b89839f1-d74b-485e-cdb2-e45b7e04d557"
   },
   "outputs": [
    {
     "data": {
      "text/plain": [
       "<AxesSubplot:xlabel='Product', ylabel='count'>"
      ]
     },
     "execution_count": 19,
     "metadata": {},
     "output_type": "execute_result"
    },
    {
     "data": {
      "image/png": "[encoded data removed]",
      "text/plain": [
       "<Figure size 432x288 with 1 Axes>"
      ]
     },
     "metadata": {
      "needs_background": "light"
     },
     "output_type": "display_data"
    }
   ],
   "source": [
    "# lets create a dodged barplot to see the distribution of fitness levels in one machine\n",
    "sns.countplot(data = data, x= 'Product', hue = 'Fitness')"
   ]
  },
  {
   "cell_type": "markdown",
   "metadata": {
    "id": "y5QFFod8otvg"
   },
   "source": [
    "# From the above plot it is clear that people with fitness level 5 are preferring the advnaced model\n",
    "\n",
    "# Also the people with fitness level 2 and 3 are more leaning towards the intermediate and basic models KP281 and KP481"
   ]
  },
  {
   "cell_type": "code",
   "execution_count": 20,
   "metadata": {
    "colab": {
     "base_uri": "https://localhost:8080/",
     "height": 256
    },
    "id": "12hJQ0nz7QOd",
    "outputId": "e36862ee-0616-4d58-c63d-269baf22cb86"
   },
   "outputs": [
    {
     "data": {
      "text/html": [
       "<div>\n",
       "<style scoped>\n",
       "    .dataframe tbody tr th:only-of-type {\n",
       "        vertical-align: middle;\n",
       "    }\n",
       "\n",
       "    .dataframe tbody tr th {\n",
       "        vertical-align: top;\n",
       "    }\n",
       "\n",
       "    .dataframe thead tr th {\n",
       "        text-align: left;\n",
       "    }\n",
       "\n",
       "    .dataframe thead tr:last-of-type th {\n",
       "        text-align: right;\n",
       "    }\n",
       "</style>\n",
       "<table border=\"1\" class=\"dataframe\">\n",
       "  <thead>\n",
       "    <tr>\n",
       "      <th></th>\n",
       "      <th colspan=\"8\" halign=\"left\">Age</th>\n",
       "      <th colspan=\"2\" halign=\"left\">Education</th>\n",
       "      <th>...</th>\n",
       "      <th colspan=\"2\" halign=\"left\">Income</th>\n",
       "      <th colspan=\"8\" halign=\"left\">Miles</th>\n",
       "    </tr>\n",
       "    <tr>\n",
       "      <th></th>\n",
       "      <th>count</th>\n",
       "      <th>mean</th>\n",
       "      <th>std</th>\n",
       "      <th>min</th>\n",
       "      <th>25%</th>\n",
       "      <th>50%</th>\n",
       "      <th>75%</th>\n",
       "      <th>max</th>\n",
       "      <th>count</th>\n",
       "      <th>mean</th>\n",
       "      <th>...</th>\n",
       "      <th>75%</th>\n",
       "      <th>max</th>\n",
       "      <th>count</th>\n",
       "      <th>mean</th>\n",
       "      <th>std</th>\n",
       "      <th>min</th>\n",
       "      <th>25%</th>\n",
       "      <th>50%</th>\n",
       "      <th>75%</th>\n",
       "      <th>max</th>\n",
       "    </tr>\n",
       "    <tr>\n",
       "      <th>Product</th>\n",
       "      <th></th>\n",
       "      <th></th>\n",
       "      <th></th>\n",
       "      <th></th>\n",
       "      <th></th>\n",
       "      <th></th>\n",
       "      <th></th>\n",
       "      <th></th>\n",
       "      <th></th>\n",
       "      <th></th>\n",
       "      <th></th>\n",
       "      <th></th>\n",
       "      <th></th>\n",
       "      <th></th>\n",
       "      <th></th>\n",
       "      <th></th>\n",
       "      <th></th>\n",
       "      <th></th>\n",
       "      <th></th>\n",
       "      <th></th>\n",
       "      <th></th>\n",
       "    </tr>\n",
       "  </thead>\n",
       "  <tbody>\n",
       "    <tr>\n",
       "      <th>KP281</th>\n",
       "      <td>80.0</td>\n",
       "      <td>28.55</td>\n",
       "      <td>7.221452</td>\n",
       "      <td>18.0</td>\n",
       "      <td>23.00</td>\n",
       "      <td>26.0</td>\n",
       "      <td>33.00</td>\n",
       "      <td>50.0</td>\n",
       "      <td>80.0</td>\n",
       "      <td>15.037500</td>\n",
       "      <td>...</td>\n",
       "      <td>53439.0</td>\n",
       "      <td>68220.0</td>\n",
       "      <td>80.0</td>\n",
       "      <td>82.787500</td>\n",
       "      <td>28.874102</td>\n",
       "      <td>38.0</td>\n",
       "      <td>66.0</td>\n",
       "      <td>85.0</td>\n",
       "      <td>94.0</td>\n",
       "      <td>188.0</td>\n",
       "    </tr>\n",
       "    <tr>\n",
       "      <th>KP481</th>\n",
       "      <td>60.0</td>\n",
       "      <td>28.90</td>\n",
       "      <td>6.645248</td>\n",
       "      <td>19.0</td>\n",
       "      <td>24.00</td>\n",
       "      <td>26.0</td>\n",
       "      <td>33.25</td>\n",
       "      <td>48.0</td>\n",
       "      <td>60.0</td>\n",
       "      <td>15.116667</td>\n",
       "      <td>...</td>\n",
       "      <td>53439.0</td>\n",
       "      <td>67083.0</td>\n",
       "      <td>60.0</td>\n",
       "      <td>87.933333</td>\n",
       "      <td>33.263135</td>\n",
       "      <td>21.0</td>\n",
       "      <td>64.0</td>\n",
       "      <td>85.0</td>\n",
       "      <td>106.0</td>\n",
       "      <td>212.0</td>\n",
       "    </tr>\n",
       "    <tr>\n",
       "      <th>KP781</th>\n",
       "      <td>40.0</td>\n",
       "      <td>29.10</td>\n",
       "      <td>6.971738</td>\n",
       "      <td>22.0</td>\n",
       "      <td>24.75</td>\n",
       "      <td>27.0</td>\n",
       "      <td>30.25</td>\n",
       "      <td>48.0</td>\n",
       "      <td>40.0</td>\n",
       "      <td>17.325000</td>\n",
       "      <td>...</td>\n",
       "      <td>90886.0</td>\n",
       "      <td>104581.0</td>\n",
       "      <td>40.0</td>\n",
       "      <td>166.900000</td>\n",
       "      <td>60.066544</td>\n",
       "      <td>80.0</td>\n",
       "      <td>120.0</td>\n",
       "      <td>160.0</td>\n",
       "      <td>200.0</td>\n",
       "      <td>360.0</td>\n",
       "    </tr>\n",
       "  </tbody>\n",
       "</table>\n",
       "<p>3 rows × 48 columns</p>\n",
       "</div>"
      ],
      "text/plain": [
       "          Age                                                  Education  \\\n",
       "        count   mean       std   min    25%   50%    75%   max     count   \n",
       "Product                                                                    \n",
       "KP281    80.0  28.55  7.221452  18.0  23.00  26.0  33.00  50.0      80.0   \n",
       "KP481    60.0  28.90  6.645248  19.0  24.00  26.0  33.25  48.0      60.0   \n",
       "KP781    40.0  29.10  6.971738  22.0  24.75  27.0  30.25  48.0      40.0   \n",
       "\n",
       "                    ...   Income           Miles                               \\\n",
       "              mean  ...      75%       max count        mean        std   min   \n",
       "Product             ...                                                         \n",
       "KP281    15.037500  ...  53439.0   68220.0  80.0   82.787500  28.874102  38.0   \n",
       "KP481    15.116667  ...  53439.0   67083.0  60.0   87.933333  33.263135  21.0   \n",
       "KP781    17.325000  ...  90886.0  104581.0  40.0  166.900000  60.066544  80.0   \n",
       "\n",
       "                                     \n",
       "           25%    50%    75%    max  \n",
       "Product                              \n",
       "KP281     66.0   85.0   94.0  188.0  \n",
       "KP481     64.0   85.0  106.0  212.0  \n",
       "KP781    120.0  160.0  200.0  360.0  \n",
       "\n",
       "[3 rows x 48 columns]"
      ]
     },
     "execution_count": 20,
     "metadata": {},
     "output_type": "execute_result"
    }
   ],
   "source": [
    "data.groupby(by = 'Product').describe()"
   ]
  },
  {
   "cell_type": "code",
   "execution_count": null,
   "metadata": {
    "id": "EGX3Xy1O7lla"
   },
   "outputs": [],
   "source": [
    "data.groupby(by = 'Product').value_counts()"
   ]
  },
  {
   "cell_type": "code",
   "execution_count": null,
   "metadata": {
    "id": "asEsimp37vnm"
   },
   "outputs": [],
   "source": [
    "data[(data['Product'] == 'KP781')].groupby(by = 'Fitness').describe()"
   ]
  },
  {
   "cell_type": "code",
   "execution_count": null,
   "metadata": {
    "id": "e9eV40mY_szS"
   },
   "outputs": [],
   "source": [
    "data.groupby(by = 'Fitness').describe()"
   ]
  },
  {
   "cell_type": "code",
   "execution_count": null,
   "metadata": {
    "id": "2VZwNVHJ_4gt"
   },
   "outputs": [],
   "source": [
    "data[(data['Product'] == 'KP781') & (data['Fitness'] == 5)].shape"
   ]
  },
  {
   "cell_type": "code",
   "execution_count": null,
   "metadata": {
    "id": "N0lBlxhOAHK1"
   },
   "outputs": [],
   "source": [
    "KP781_Probability_F5 = 29/31\n",
    "KP781_Probability_F5"
   ]
  },
  {
   "cell_type": "markdown",
   "metadata": {
    "id": "bINmvCcBUrcT"
   },
   "source": [
    "# Conclusion\n",
    "\n",
    "# **So the probability that if a person rates him/her as 5 then the probability of then buying KP781 model is 0.93 which is very high !**"
   ]
  },
  {
   "cell_type": "code",
   "execution_count": null,
   "metadata": {
    "id": "VBLZYsMRVyxi"
   },
   "outputs": [],
   "source": [
    "# now lets check the probability if the fitness level of the person is 3 then\n",
    "# will he buy KP281  or KP481 model."
   ]
  },
  {
   "cell_type": "code",
   "execution_count": null,
   "metadata": {
    "id": "OsIyNG_8j80W"
   },
   "outputs": [],
   "source": [
    "data.groupby(by = ['Product','Fitness']).describe()"
   ]
  },
  {
   "cell_type": "code",
   "execution_count": null,
   "metadata": {
    "id": "hTkJdbtSkdZr"
   },
   "outputs": [],
   "source": [
    "# So P((KP281 U KP481)/3) = P(KP281/3) + P(KP481/3) - P((K281 and K481)/3)\n",
    "\n",
    "# assuming that one customer only buys one machine so a customer cannot buy both K\n",
    "probability_K2_and_K4_suchthat_F3 = ((54/97) + (39/97)) - (0)\n",
    "probability_K2_and_K4_suchthat_F3"
   ]
  },
  {
   "cell_type": "markdown",
   "metadata": {
    "id": "I2fbU2kUmXej"
   },
   "source": [
    "# **Conclusion**\n",
    "\n",
    "**So the probability that if a person rates him/her as 3 in Fitness then the probability of then buying KP281 or KP481 model is 0.95 which is very high !**\n",
    "\n",
    "\n",
    "**Another thing that we can observe is that people who rate themselves as 1 in Fitness are very unlikely to buy any machine as the probability is 1/90 = 0.01**\n"
   ]
  },
  {
   "cell_type": "code",
   "execution_count": null,
   "metadata": {
    "id": "QklyucCOmtZ-"
   },
   "outputs": [],
   "source": [
    "# Now lets plot customers who bought products on their salaries vs the machine they bought !\n",
    "data.groupby(by = 'Income').describe()"
   ]
  },
  {
   "cell_type": "code",
   "execution_count": null,
   "metadata": {
    "id": "LhvWG1mQodfZ"
   },
   "outputs": [],
   "source": [
    "data.groupby(by = 'Fitness').describe()['Income']"
   ]
  },
  {
   "cell_type": "code",
   "execution_count": null,
   "metadata": {
    "id": "OnNTEL0bou-d"
   },
   "outputs": [],
   "source": [
    "# lets plot based on salaries vs products\n"
   ]
  },
  {
   "cell_type": "code",
   "execution_count": null,
   "metadata": {
    "id": "NKBtY6stpsN9"
   },
   "outputs": [],
   "source": [
    "income_based = data.groupby(by = ['Product', 'Income']).describe()\n",
    "income_based.head(30)"
   ]
  },
  {
   "cell_type": "code",
   "execution_count": null,
   "metadata": {
    "id": "6RkBhDazqddj"
   },
   "outputs": [],
   "source": [
    "# lets take the data and sort it in asceding order based on income and then observe it\n",
    "data_sorted_based_on_income = data.sort_values(by = 'Income')"
   ]
  },
  {
   "cell_type": "code",
   "execution_count": null,
   "metadata": {
    "id": "5bI6_zf2rHQa"
   },
   "outputs": [],
   "source": [
    "data_sorted_based_on_income"
   ]
  },
  {
   "cell_type": "code",
   "execution_count": null,
   "metadata": {
    "id": "FkZ3ecD4rvaD"
   },
   "outputs": [],
   "source": [
    "# lets do a box plot first\n",
    "palette = {'KP281': 'red', 'KP481': 'green', 'KP781': 'orange'}\n",
    "Plot = sns.boxplot(data = data, x = 'Product', y = 'Income',palette = palette)\n",
    "\n",
    "#Provide Annotations\n",
    "medians = data.groupby('Product')['Income'].median().values\n",
    "quantiles = data.groupby('Product')['Income'].quantile(0.25).values\n",
    "\n",
    "for i, (median_val, quantile_val) in enumerate(zip(medians, quantiles)):\n",
    "    Plot.text(i, median_val, f'{median_val:.2f}', ha='center', va='bottom', color='#000080', fontsize=10)\n",
    "    Plot.text(i, quantile_val, f'Q1: {quantile_val:.2f}', ha='center', va='top', color='#000080', fontsize=10)\n",
    "\n",
    "plt.show()"
   ]
  },
  {
   "cell_type": "markdown",
   "metadata": {
    "id": "VwoSH_Va35YQ"
   },
   "source": [
    "**From the above boxplot we can observe the baseline as to what machine should be recommended based on the salary of the customer**\n",
    "\n",
    "# The Q1 salary for KP781 is 58204\n",
    "# The Q1 salary for KP481 is 44911\n",
    "# The Q1 salary for KP281 is 38568"
   ]
  },
  {
   "cell_type": "markdown",
   "metadata": {
    "id": "LVXOosh0pUc_"
   },
   "source": [
    "# Almost 60% of the customers fall in the income group of (40k to 60k) dollars suggesting higher inclination of this income group people towards the products.\n",
    "\n",
    "Surprisingly 18% of the customers fall in the income group of (<40) suggesting almost 77% of the total customers fall in income group of below 60k and only 23% of them falling in 60k and above income group"
   ]
  },
  {
   "cell_type": "code",
   "execution_count": null,
   "metadata": {
    "id": "xHlHC34RtLPO"
   },
   "outputs": [],
   "source": [
    "data_sorted_based_on_income.groupby(by = 'Product').describe()"
   ]
  },
  {
   "cell_type": "code",
   "execution_count": null,
   "metadata": {
    "id": "n66j1Ie466nz"
   },
   "outputs": [],
   "source": [
    "data_sorted_based_on_income.groupby(by = 'Product').describe()['Income']"
   ]
  },
  {
   "cell_type": "code",
   "execution_count": null,
   "metadata": {
    "id": "jJJJqYvw8PWS"
   },
   "outputs": [],
   "source": [
    "data.head()"
   ]
  },
  {
   "cell_type": "markdown",
   "metadata": {
    "id": "Vt3uBiqGqxah"
   },
   "source": [
    "# Analysis based on Gender"
   ]
  },
  {
   "cell_type": "code",
   "execution_count": null,
   "metadata": {
    "id": "QcR5sQatF3jd"
   },
   "outputs": [],
   "source": [
    "# lets group on the basis of gender for machines\n",
    "data.groupby(by = 'Gender').count()"
   ]
  },
  {
   "cell_type": "code",
   "execution_count": null,
   "metadata": {
    "id": "tWfzFkFfG-2O"
   },
   "outputs": [],
   "source": [
    "data.groupby(by = 'Gender').describe()"
   ]
  },
  {
   "cell_type": "code",
   "execution_count": null,
   "metadata": {
    "id": "BqGsFXSFHFfC"
   },
   "outputs": [],
   "source": [
    "data.groupby(by = ['Gender', 'Product']).value_counts()"
   ]
  },
  {
   "cell_type": "code",
   "execution_count": null,
   "metadata": {
    "id": "NxhyATipJkff"
   },
   "outputs": [],
   "source": [
    "data.groupby(by = ['Gender', 'Product']).count()"
   ]
  },
  {
   "cell_type": "code",
   "execution_count": null,
   "metadata": {
    "id": "YCG0iSMFKTzu"
   },
   "outputs": [],
   "source": [
    "sns.countplot(data=data,x = 'Gender')"
   ]
  },
  {
   "cell_type": "markdown",
   "metadata": {
    "id": "i9S-cvQYrDdI"
   },
   "source": [
    "# The number of males is slightly more than females"
   ]
  },
  {
   "cell_type": "code",
   "execution_count": null,
   "metadata": {
    "id": "oUR0FnRcLiYe"
   },
   "outputs": [],
   "source": [
    "gender_vs_products = pd.crosstab(data['Gender'], data['Product'])\n",
    "gender_vs_products"
   ]
  },
  {
   "cell_type": "code",
   "execution_count": null,
   "metadata": {
    "id": "EFN6FbgbMPe-"
   },
   "outputs": [],
   "source": [
    "gender_vs_products.plot(kind='bar', stacked=True, color=['blue', 'orange','purple'], edgecolor='black')\n",
    "\n",
    "plt.title('Distribution of Gender Across Products')\n",
    "plt.xlabel('Gender')\n",
    "plt.ylabel('Count')\n",
    "plt.legend(title='Product', loc='upper right')\n",
    "plt.legend(loc = (-0.3,0))\n",
    "\n",
    "plt.show()"
   ]
  },
  {
   "cell_type": "markdown",
   "metadata": {
    "id": "baJEcPowIBqA"
   },
   "source": [
    "# Conclusion\n",
    "\n",
    "**From the above stacked bar plot what we can conclude is that females are buying KP281 and KP481 more compared to KP781**\n",
    "\n",
    "**Another thing we can conclude is that in males the distribution is sort of uniform so there is no sureshot answer for a Male to recommed them a machine just based on their gender , we will have to look at some other factors**\n",
    "\n",
    "**If the person is a female the company should recommend them KP281 and KP481 modesl first**"
   ]
  },
  {
   "cell_type": "code",
   "execution_count": null,
   "metadata": {
    "id": "Iak-GQ9ANGvA"
   },
   "outputs": [],
   "source": [
    "\n",
    "sns.countplot(data = data, x = 'Gender', hue = 'Product')"
   ]
  },
  {
   "cell_type": "markdown",
   "metadata": {
    "id": "RpZIH0eLrUj2"
   },
   "source": [
    "# distribution based on product and gender"
   ]
  },
  {
   "cell_type": "code",
   "execution_count": null,
   "metadata": {
    "id": "_A7VHB1bP7CE"
   },
   "outputs": [],
   "source": [
    "plt.figure(figsize=(12, 12))\n",
    "\n",
    "ax = sns.countplot(data=data, x='Gender', hue='Product')\n",
    "\n",
    "# Add numerical values on top of each bar\n",
    "for p in ax.patches:\n",
    "    height = p.get_height()\n",
    "    ax.annotate(f'{height}', (p.get_x() + p.get_width() / 2., height),\n",
    "                ha='center', va='center', xytext=(0, 10), textcoords='offset points')\n",
    "\n",
    "plt.legend(loc = (1.1,1))\n",
    "ax.legend(fontsize = 'large')\n",
    "# Show the plot\n",
    "plt.show()"
   ]
  },
  {
   "cell_type": "markdown",
   "metadata": {
    "id": "h0Ka4FDPW4-7"
   },
   "source": [
    "# Inference\n",
    "\n",
    "What we can see from the above dodged bar plot is that is that the chances of females buying the advanced model ***KP781*** ,\n",
    "\n",
    "Lets calculate the probability for that"
   ]
  },
  {
   "cell_type": "code",
   "execution_count": null,
   "metadata": {
    "id": "r0WzTvpbTOLx"
   },
   "outputs": [],
   "source": [
    "probability_K7_female = 7/76\n",
    "probability_K7_female"
   ]
  },
  {
   "cell_type": "markdown",
   "metadata": {
    "id": "FSq2srmzaMbl"
   },
   "source": [
    "**The probability comes out to be 0.09 which is approximately 0.1  which is quite less !**\n",
    "\n",
    "# Conclusion\n",
    "\n",
    "**So if a person is female it is advisable not to recommend them KP781**\n",
    "\n",
    "**Another observation that we can make is that for any person whether male or female the first machine to recommend is KP281**\n",
    "\n"
   ]
  },
  {
   "cell_type": "code",
   "execution_count": null,
   "metadata": {
    "id": "v3r9grNRaLNC"
   },
   "outputs": [],
   "source": [
    "# Now lets create a bivariate plot, of gender and fitness\n",
    "data.head()"
   ]
  },
  {
   "cell_type": "code",
   "execution_count": null,
   "metadata": {
    "id": "blEtUD_9aIP4"
   },
   "outputs": [],
   "source": [
    "ax = sns.countplot(data = data, x= 'Gender', hue = 'Fitness')\n",
    "# Add numerical values on top of each bar\n",
    "for p in ax.patches:\n",
    "    height = p.get_height()\n",
    "    ax.annotate(f'{height}', (p.get_x() + p.get_width() / 2., height),\n",
    "                ha='center', va='center', xytext=(0, 10), textcoords='offset points')"
   ]
  },
  {
   "cell_type": "code",
   "execution_count": null,
   "metadata": {
    "id": "3UikA2DLfExL"
   },
   "outputs": [],
   "source": [
    "# from the above bar plot i can see the people of fitness level 3 are distributed among the\n",
    "# males and females almost uniformly\n",
    "\n",
    "# now i want to visulaize the relation between Gender , Fitness and Products\n",
    "# so for that we will be plotting a multivariate plot\n"
   ]
  },
  {
   "cell_type": "code",
   "execution_count": null,
   "metadata": {
    "id": "e9eXPuwZf2vR"
   },
   "outputs": [],
   "source": [
    "plt.figure(figsize=(20, 20))\n",
    "\n",
    "# Create a grouped bar chart with nested subplots\n",
    "g = sns.catplot(data=data, x='Product', hue='Gender', col='Fitness', kind='count', height=4, aspect=0.8)\n",
    "\n",
    "# Add numerical values on top of each bar\n",
    "for ax in g.axes.flat:\n",
    "    for p in ax.patches:\n",
    "        height = p.get_height()\n",
    "        ax.annotate(f'{height}', (p.get_x() + p.get_width() / 2., height),\n",
    "                    ha='center', va='center', xytext=(0, 10), textcoords='offset points')\n",
    "\n",
    "# Add titles and labels\n",
    "g.set_axis_labels('Product', 'Count')\n",
    "g.set_titles('Fitness Level {col_name}')\n",
    "\n",
    "# Show the plot\n",
    "plt.show()"
   ]
  },
  {
   "cell_type": "markdown",
   "metadata": {
    "id": "GszDlfm8n19g"
   },
   "source": [
    "# Conclusion\n",
    "\n",
    "The most concentrated number of people are in fitness level 3\n",
    "\n",
    "**For fitness level 3 irrespective of the gender the company should recommend KP281 and KP481 models**"
   ]
  },
  {
   "cell_type": "code",
   "execution_count": null,
   "metadata": {
    "id": "wPUxn1T0hcUr"
   },
   "outputs": [],
   "source": [
    "# so just out of curiosity lets plot a heat map.\n",
    "sns.heatmap(data.corr(), cmap=\"Blues\", annot = True)"
   ]
  },
  {
   "cell_type": "code",
   "execution_count": null,
   "metadata": {
    "id": "_tAJDvDws1Jf"
   },
   "outputs": [],
   "source": [
    "data.head()"
   ]
  },
  {
   "cell_type": "code",
   "execution_count": null,
   "metadata": {
    "id": "053uJrDVvnor"
   },
   "outputs": [],
   "source": [
    "grouped_by_Age = data.groupby(by = 'Age').describe()\n",
    "pd.crosstab(index=data['Age'], columns=data['MaritalStatus'])"
   ]
  },
  {
   "cell_type": "code",
   "execution_count": null,
   "metadata": {
    "id": "NMBzXGNkwIMf"
   },
   "outputs": [],
   "source": [
    "# lets first check how many people among age groups are married or unmarried\n",
    "data.groupby(by = ['MaritalStatus']).describe()"
   ]
  },
  {
   "cell_type": "code",
   "execution_count": null,
   "metadata": {
    "id": "ERCbXJlR0NPa"
   },
   "outputs": [],
   "source": [
    "# based on the above observations lets group the ages into categories as young, midage, and old\n",
    "# another plot that we can look at is the number of single people and what sort of machines are they buying\n",
    "\n",
    "data_of_singles = data[data['MaritalStatus'] == 'Single']\n",
    "data_of_singles.head(50)"
   ]
  },
  {
   "cell_type": "code",
   "execution_count": null,
   "metadata": {
    "id": "lprNXWlz5Xp-"
   },
   "outputs": [],
   "source": [
    "# lets plot a pie chart for data of singles to get what machines they are buying.\n",
    "# Plot a pie chart using Matplotlib\n",
    "plt.figure(figsize=(8, 8))\n",
    "plt.pie(data_of_singles['Product'].value_counts(), labels=data_of_singles['Product'].unique(), autopct='%1.1f%%')\n",
    "\n",
    "# Add a title\n",
    "plt.title('Distribution of Products among Singles')\n",
    "\n",
    "# Show the plot\n",
    "plt.show()\n"
   ]
  },
  {
   "cell_type": "code",
   "execution_count": null,
   "metadata": {
    "id": "FF7VPXGv3m6q"
   },
   "outputs": [],
   "source": [
    "ax = sns.countplot(data= data_of_singles,x = 'Product', palette = ['blue','red','green'])\n",
    "\n",
    "for p in ax.patches:\n",
    "    height = p.get_height()\n",
    "    ax.annotate(f'{height}', (p.get_x() + p.get_width() / 2., height),\n",
    "                ha='center', va='center', xytext=(0, 10), textcoords='offset points')\n"
   ]
  },
  {
   "cell_type": "code",
   "execution_count": null,
   "metadata": {
    "id": "eoeUKIwA61xH"
   },
   "outputs": [],
   "source": [
    "# get the data for married people\n",
    "data_of_married = data[data['MaritalStatus'] == 'Partnered']\n",
    "data_of_married"
   ]
  },
  {
   "cell_type": "code",
   "execution_count": null,
   "metadata": {
    "id": "zCoPPToN8QwI"
   },
   "outputs": [],
   "source": [
    "ax = sns.countplot(data= data_of_married,x = 'Product', palette = ['blue','red','green'])\n",
    "\n",
    "for p in ax.patches:\n",
    "    height = p.get_height()\n",
    "    ax.annotate(f'{height}', (p.get_x() + p.get_width() / 2., height),\n",
    "                ha='center', va='center', xytext=(0, 10), textcoords='offset points')"
   ]
  },
  {
   "cell_type": "code",
   "execution_count": null,
   "metadata": {
    "id": "IzrYy8R-8YZD"
   },
   "outputs": [],
   "source": [
    "ax = sns.countplot(data= data_of_married,x = 'Product', palette = ['blue','red','green'])\n",
    "\n",
    "for p in ax.patches:\n",
    "    height = p.get_height()\n",
    "    ax.annotate(f'{height}', (p.get_x() + p.get_width() / 2., height),\n",
    "                ha='center', va='center', xytext=(0, 10), textcoords='offset points')"
   ]
  },
  {
   "cell_type": "code",
   "execution_count": null,
   "metadata": {
    "id": "GHizQL358hmW"
   },
   "outputs": [],
   "source": [
    "# lets get the data of single and young people\n",
    "single_and_young = data_of_singles[(data_of_singles['Age'] >= 18) & (data_of_singles['Age'] <= 25)]\n",
    "\n",
    "ax = sns.countplot(data = single_and_young, x = 'Product',color = 'purple')\n",
    "\n",
    "for p in ax.patches:\n",
    "    height = p.get_height()\n",
    "    ax.annotate(f'{height}', (p.get_x() + p.get_width() / 2., height),\n",
    "                ha='center', va='center', xytext=(0, 10), textcoords='offset points')"
   ]
  },
  {
   "cell_type": "code",
   "execution_count": null,
   "metadata": {
    "id": "YBl3ZHmfAYoT"
   },
   "outputs": [],
   "source": [
    "single_and_young[single_and_young['Fitness'] >= 3].shape\n",
    "single_and_young[single_and_young['Fitness'] >= 3]"
   ]
  },
  {
   "cell_type": "code",
   "execution_count": null,
   "metadata": {
    "id": "rACWKQp-BeIz"
   },
   "outputs": [],
   "source": [
    "ax = sns.countplot(data = single_and_young[single_and_young['Fitness'] >= 3], x = 'Product')\n",
    "\n",
    "for p in ax.patches:\n",
    "    height = p.get_height()\n",
    "    ax.annotate(f'{height}', (p.get_x() + p.get_width() / 2., height),\n",
    "                ha='center', va='center', xytext=(0, 10), textcoords='offset points')"
   ]
  },
  {
   "cell_type": "code",
   "execution_count": null,
   "metadata": {
    "id": "RPZsZ8HVB6i9"
   },
   "outputs": [],
   "source": [
    "data.sort_values(by = 'Age', inplace = True)\n",
    "sns.countplot(data = data, x = 'Age',width = 0.8, dodge = True)\n",
    "# Customize the x-axis labels\n",
    "plt.xticks(rotation=90, ha='right')"
   ]
  },
  {
   "cell_type": "code",
   "execution_count": null,
   "metadata": {
    "id": "zLJY355ACqZL"
   },
   "outputs": [],
   "source": [
    "sns.countplot(data=data, x='Age', color='skyblue', saturation=0.5, order=sorted(data['Age'].unique()))"
   ]
  },
  {
   "cell_type": "code",
   "execution_count": null,
   "metadata": {
    "id": "9w-hgJddDao_"
   },
   "outputs": [],
   "source": [
    "data_of_young = data[(data['Age'] >= 18) & (data['Age'] <= 25)]\n",
    "sns.countplot(data = data_of_young,x = 'MaritalStatus')"
   ]
  },
  {
   "cell_type": "code",
   "execution_count": null,
   "metadata": {
    "id": "D0GAZY2iFCnt"
   },
   "outputs": [],
   "source": [
    "data_of_young.shape"
   ]
  },
  {
   "cell_type": "code",
   "execution_count": null,
   "metadata": {
    "id": "i-bhOuAVFn5a"
   },
   "outputs": [],
   "source": [
    "data.shape"
   ]
  },
  {
   "cell_type": "code",
   "execution_count": null,
   "metadata": {
    "id": "TnyNkluIFqB6"
   },
   "outputs": [],
   "source": [
    "data_of_notYoung = pd.concat([data, data_of_young]).drop_duplicates(keep=False)\n",
    "\n",
    "# Display the resulting DataFrame\n",
    "data_of_notYoung\n"
   ]
  },
  {
   "cell_type": "code",
   "execution_count": null,
   "metadata": {
    "id": "Xs9EUdlKFz2W"
   },
   "outputs": [],
   "source": [
    "data_young_and_married = data_of_young[data_of_young['MaritalStatus'] == 'Partnered']\n",
    "data_young_and_married.shape"
   ]
  },
  {
   "cell_type": "code",
   "execution_count": null,
   "metadata": {
    "id": "WojBHmmOGXOT"
   },
   "outputs": [],
   "source": [
    "# lets create a multivariate plot where the people are young and their marital status and the machine they bought\n",
    "ax = sns.countplot(data= data_of_young, x = 'Product',hue = 'MaritalStatus')\n",
    "\n",
    "for p in ax.patches:\n",
    "    height = p.get_height()\n",
    "    ax.annotate(f'{height}', (p.get_x() + p.get_width() / 2., height),\n",
    "                ha='center', va='center', xytext=(0, 10), textcoords='offset points')"
   ]
  },
  {
   "cell_type": "code",
   "execution_count": null,
   "metadata": {
    "id": "X0jSkKT2HGyV"
   },
   "outputs": [],
   "source": [
    "# Use boxplot to detect outliers\n",
    "sns.boxplot(data=data[['Age', 'Education', 'Usage', 'Income', 'Fitness', 'Miles']])\n",
    "plt.show()"
   ]
  },
  {
   "cell_type": "code",
   "execution_count": null,
   "metadata": {
    "id": "1H7gMOhDKxsv"
   },
   "outputs": [],
   "source": [
    "# Use heatmap or pair plots to visualize correlation\n",
    "correlation_matrix = data.corr()\n",
    "sns.heatmap(correlation_matrix, annot=True, cmap='coolwarm')\n",
    "plt.show()"
   ]
  },
  {
   "cell_type": "code",
   "execution_count": null,
   "metadata": {
    "id": "0HijGHKSK_HT"
   },
   "outputs": [],
   "source": [
    "sns.countplot(data=data, x='MaritalStatus', hue='Product')"
   ]
  },
  {
   "cell_type": "code",
   "execution_count": null,
   "metadata": {
    "id": "o3stTp0ULJ3R"
   },
   "outputs": [],
   "source": [
    "g = sns.catplot(data=data, x='Product', hue='MaritalStatus', col='Fitness', kind='count', height=4, aspect=0.8)\n"
   ]
  },
  {
   "cell_type": "markdown",
   "metadata": {
    "id": "Hh6pyGXcM0Hp"
   },
   "source": [
    "# Conclusion\n",
    "**By analysing the data so far , the marital status of a person has little or no impact of them buying any particular machine**"
   ]
  },
  {
   "cell_type": "code",
   "execution_count": null,
   "metadata": {
    "id": "EAmrMdrSMjfS"
   },
   "outputs": [],
   "source": [
    "data['Usage']"
   ]
  },
  {
   "cell_type": "code",
   "execution_count": null,
   "metadata": {
    "id": "rJZBpuLoPBxy"
   },
   "outputs": [],
   "source": [
    "sns.countplot(data = data, x = 'Product',hue = 'Usage')"
   ]
  },
  {
   "cell_type": "markdown",
   "metadata": {
    "id": "NYsGu6WISJOu"
   },
   "source": [
    " From the above dodged count plot what we can see is that someone with Usage 3 is more likely to buy KP281 and KP481 models"
   ]
  },
  {
   "cell_type": "code",
   "execution_count": null,
   "metadata": {
    "id": "QdWix_wzRrec"
   },
   "outputs": [],
   "source": [
    "# now if a customer comes and they say that they use machine lets say x times a week then i will have to look at their fitness level and their salary before recommending them any machine"
   ]
  },
  {
   "cell_type": "code",
   "execution_count": null,
   "metadata": {
    "id": "nQrbdKfVOG7x"
   },
   "outputs": [],
   "source": [
    "# lets create a multivariate plot based on Usage, Product and Fitness\n",
    "g = sns.catplot(data=data, x='Product', hue='Usage', col='Fitness', kind='count', )\n",
    "\n",
    "# Add numerical values on top of each bar\n",
    "for ax in g.axes.flat:\n",
    "    for p in ax.patches:\n",
    "        height = p.get_height()\n",
    "        ax.annotate(f'{height}', (p.get_x() + p.get_width() / 2., height),\n",
    "                    ha='center', va='center', xytext=(0, 10), textcoords='offset points')\n",
    "\n",
    "plt.legend(loc = (-0.5,0))\n",
    "ax.legend(fontsize = 'large')\n"
   ]
  },
  {
   "cell_type": "markdown",
   "metadata": {
    "id": "T0YbVDwCTebX"
   },
   "source": [
    "# Conclusion\n",
    "\n",
    "**People with usage 7 are probably people who care a lot about their fitness and hence they will most likey buy the advanced model (KP781)**\n",
    "\n",
    "**For people with usage 2 , 3 the best products to recommend are KP281 and KP481**\n",
    "\n",
    "**For people with usage 4 we will have to look at their fitness levels and salary and then recommend them products as they almost have a fair division among all machines**"
   ]
  },
  {
   "cell_type": "code",
   "execution_count": null,
   "metadata": {
    "id": "XRJu-uSjPNDz"
   },
   "outputs": [],
   "source": [
    "data.head()"
   ]
  },
  {
   "cell_type": "code",
   "execution_count": null,
   "metadata": {
    "id": "IypyiFb4XElo"
   },
   "outputs": [],
   "source": [
    "# @title Distribution of Age by Product\n",
    "\n",
    "sns.histplot(data=data, x=\"Age\", hue=\"Product\", palette=\"viridis\")"
   ]
  },
  {
   "cell_type": "code",
   "execution_count": null,
   "metadata": {
    "id": "KGtpFJv4WdLP"
   },
   "outputs": [],
   "source": [
    "sns.catplot(data=data, x='Product', hue='Education',col = 'Fitness',kind = 'count')"
   ]
  },
  {
   "cell_type": "code",
   "execution_count": null,
   "metadata": {
    "id": "eZowQqnLWxK2"
   },
   "outputs": [],
   "source": [
    "sns.countplot(data = data , x = 'Product',hue = 'Education')"
   ]
  },
  {
   "cell_type": "code",
   "execution_count": null,
   "metadata": {
    "id": "lwkwE-lJfE6T"
   },
   "outputs": [],
   "source": [
    "data[(data['Fitness'] == 5) & (data['Product'] != 'KP781')]"
   ]
  },
  {
   "cell_type": "code",
   "execution_count": null,
   "metadata": {
    "id": "NhS9ekHlgz2K"
   },
   "outputs": [],
   "source": [
    "sns.countplot(data = data, x = 'Product',)"
   ]
  },
  {
   "cell_type": "code",
   "execution_count": null,
   "metadata": {
    "id": "TkmqMxy_Dlsv"
   },
   "outputs": [],
   "source": [
    "data.head()"
   ]
  },
  {
   "cell_type": "code",
   "execution_count": null,
   "metadata": {
    "id": "e7YZlOWMDnfd"
   },
   "outputs": [],
   "source": [
    "data.groupby(by = 'Miles').describe()"
   ]
  },
  {
   "cell_type": "code",
   "execution_count": null,
   "metadata": {
    "id": "xKJyHbIFMNBe"
   },
   "outputs": [],
   "source": [
    "sns.boxplot(data = data , x = 'Product', y = 'Miles')"
   ]
  },
  {
   "cell_type": "code",
   "execution_count": null,
   "metadata": {
    "id": "KRB_ZAyiNjVx"
   },
   "outputs": [],
   "source": [
    "sns.boxplot(data = data , x = 'Product', y = 'Miles',hue = 'Fitness')"
   ]
  },
  {
   "cell_type": "code",
   "execution_count": null,
   "metadata": {
    "id": "AWhTR6QKN9Tx"
   },
   "outputs": [],
   "source": [
    "sns.catplot(data=data, x='Product', hue='Education',col = 'Fitness',kind = 'box')"
   ]
  },
  {
   "cell_type": "code",
   "execution_count": null,
   "metadata": {
    "id": "M6rwfF7POEb6"
   },
   "outputs": [],
   "source": [
    "sns.boxplot(data = data , x = 'Product', y = 'Income',hue = 'Fitness')"
   ]
  },
  {
   "cell_type": "code",
   "execution_count": null,
   "metadata": {
    "id": "jTbQG6gEQeme"
   },
   "outputs": [],
   "source": [
    "data.groupby(by = ['Product','Income']).describe().head(60)"
   ]
  },
  {
   "cell_type": "code",
   "execution_count": null,
   "metadata": {
    "id": "VC2Ub4rMAMVc"
   },
   "outputs": [],
   "source": [
    "# lets plot the data based on miles\n",
    "sns.countplot(data = data, x = 'Product' , hue = 'Miles')"
   ]
  },
  {
   "cell_type": "code",
   "execution_count": null,
   "metadata": {
    "id": "eiODp0lRA7Uk"
   },
   "outputs": [],
   "source": [
    "data.groupby(by = ['Product','Miles']).describe()"
   ]
  },
  {
   "cell_type": "code",
   "execution_count": null,
   "metadata": {
    "id": "zVvqUZmZGeBX"
   },
   "outputs": [],
   "source": [
    "data.head()"
   ]
  },
  {
   "cell_type": "code",
   "execution_count": null,
   "metadata": {
    "id": "ensWSTnklMKH"
   },
   "outputs": [],
   "source": [
    "data.groupby(by = 'Miles').describe()"
   ]
  },
  {
   "cell_type": "code",
   "execution_count": null,
   "metadata": {
    "id": "udEqw9DEmzwm"
   },
   "outputs": [],
   "source": [
    "sns.boxplot(data = data, x = 'Product', y = 'Miles')"
   ]
  },
  {
   "cell_type": "code",
   "execution_count": null,
   "metadata": {
    "id": "0BNN81qxm_Zp"
   },
   "outputs": [],
   "source": [
    "ax = sns.boxplot(data = data, x = 'Product', y = 'Miles')\n",
    "\n",
    "medians = data.groupby('Product')['Miles'].median().values\n",
    "quantiles = data.groupby('Product')['Miles'].quantile(0.25).values\n",
    "\n",
    "for i, (median_val, quantile_val) in enumerate(zip(medians, quantiles)):\n",
    "    ax.text(i, median_val, f'{median_val:.2f}', ha='center', va='bottom', color='red', fontsize=10)\n",
    "    ax.text(i, quantile_val, f'Q1: {quantile_val:.2f}', ha='center', va='top', color='red', fontsize=10)\n",
    "\n",
    "plt.show()"
   ]
  },
  {
   "cell_type": "code",
   "execution_count": null,
   "metadata": {
    "id": "vmgJnBOdncem"
   },
   "outputs": [],
   "source": [
    "sns.catplot(data = data, x = 'Product',col = 'Usage',hue = 'Age',kind = 'count')"
   ]
  },
  {
   "cell_type": "code",
   "execution_count": null,
   "metadata": {
    "id": "VbIStwJGPpAL"
   },
   "outputs": [],
   "source": [
    "sns.catplot(data = data, x= 'Product', col = 'Fitness', hue = 'Gender',kind = 'count')"
   ]
  },
  {
   "cell_type": "code",
   "execution_count": null,
   "metadata": {
    "id": "aamPPjFmYUl3"
   },
   "outputs": [],
   "source": [
    "sns.boxplot(data = data, x= 'Product', y = 'Usage')"
   ]
  },
  {
   "cell_type": "code",
   "execution_count": null,
   "metadata": {
    "id": "wzAvavbUbN5G"
   },
   "outputs": [],
   "source": [
    "sns.catplot(data = data, x='Product',col = 'Fitness',hue = 'Usage',kind = 'count')"
   ]
  },
  {
   "cell_type": "code",
   "execution_count": null,
   "metadata": {
    "id": "43NoFU8ncbce"
   },
   "outputs": [],
   "source": [
    "sns.countplot(data = data, x = 'Product',hue = 'MaritalStatus')"
   ]
  },
  {
   "cell_type": "code",
   "execution_count": null,
   "metadata": {
    "id": "8O-ZfDnzdDxP"
   },
   "outputs": [],
   "source": [
    "sns.catplot(data = data,x = 'MaritalStatus',y = 'Income',col = 'Product',hue= 'Fitness', kind = 'box')"
   ]
  },
  {
   "cell_type": "markdown",
   "metadata": {
    "id": "yAga5lYAx0fq"
   },
   "source": [
    "# Probablistic conclusions with respect to Income\n",
    "\n",
    "The Probability of a treadmill being purchased by a customer with Low Income(<40k) is 18%.\n",
    "\n",
    "The conditional probability of purchasing the treadmill model given that the customer has Low Income is -\n",
    "For Treadmill model KP281 - 13%\n",
    "\n",
    "For Treadmill model KP481 - 5%\n",
    "\n",
    "For Treadmill model KP781 - 0%\n",
    "\n",
    "The Probability of a treadmill being purchased by a customer with Moderate Income(40k - 60k) is 59%.\n",
    "\n",
    "The conditional probability of purchasing the treadmill model given that the customer has Moderate Income is -\n",
    "For Treadmill model KP281 - 28%\n",
    "\n",
    "For Treadmill model KP481 - 24%\n",
    "\n",
    "For Treadmill model KP781 - 6%\n",
    "\n",
    "The Probability of a treadmill being purchased by a customer with High Income(60k - 80k) is 13%\n",
    "\n",
    "The conditional probability of purchasing the treadmill model given that the customer has High Income is -\n",
    "\n",
    "For Treadmill model KP281 - 3%\n",
    "\n",
    "For Treadmill model KP481 - 4%\n",
    "\n",
    "For Treadmill model KP781 - 6%\n",
    "\n",
    "The Probability of a treadmill being purchased by a customer with Very High Income(>80k) is 11%\n",
    "\n",
    "The conditional probability of purchasing the treadmill model given that the customer has High Income is -\n",
    "\n",
    "For Treadmill model KP281 - 0%\n",
    "\n",
    "For Treadmill model KP481 - 0%\n",
    "\n",
    "For Treadmill model KP781 - 11%"
   ]
  },
  {
   "cell_type": "markdown",
   "metadata": {
    "id": "vw6XSaiUyVau"
   },
   "source": [
    "# Probabilistic conclusions wrt Fitness\n",
    "\n",
    "The Probability of a treadmill being purchased by a customer with Average(3) Fitness is 54%.\n",
    "\n",
    "The conditional probability of purchasing the treadmill model given that the customer has Average Fitness is -\n",
    "For Treadmill model KP281 - 30%\n",
    "\n",
    "For Treadmill model KP481 - 22%\n",
    "\n",
    "For Treadmill model KP781 - 2%\n",
    "\n",
    "The Probability of a treadmill being purchased by a customer with Fitness of 2,4,5 is almost 15%.\n",
    "\n",
    "The Probability of a treadmill being purchased by a customer with very low(1) Fitness is only 1%."
   ]
  },
  {
   "cell_type": "code",
   "execution_count": null,
   "metadata": {
    "id": "6AqZ7bSzdbTH"
   },
   "outputs": [],
   "source": [
    "# this is the final customer profiling"
   ]
  },
  {
   "cell_type": "markdown",
   "metadata": {
    "id": "Gxbo6UpEyu7a"
   },
   "source": [
    "# Customer Profiling:\n",
    "\n",
    "Probability of purchase for KP281 treadmill: 44%\n",
    "\n",
    "Probability of purchase for KP481 treadmill: 33%\n",
    "\n",
    "Probability of purchase for KP781 treadmill: 22%\n",
    "\n",
    "Customer Profile for KP281 Treadmill:\n",
    "\n",
    "Age: Predominantly between 18 to 35 years with a minority aged between 35 to 50 years.\n",
    "Education: Completion of at least 13 years of education.\n",
    "Annual Income: Below USD 60,000.\n",
    "Weekly Usage: 2 to 4 times.\n",
    "Fitness Scale: Ranges from 2 to 4.\n",
    "Weekly Running Mileage: 50 to 100 miles.\n",
    "Customer Profile for KP481 Treadmill:\n",
    "\n",
    "Age: Primarily between 18 to 35 years with some customers aged between 35 to 50 years.\n",
    "Education: Completion of at least 13 years of education.\n",
    "Annual Income: Between USD 40,000 to USD 80,000.\n",
    "Weekly Usage: 2 to 4 times.\n",
    "Fitness Scale: Ranges from 2 to 4.\n",
    "Weekly Running Mileage: 50 to 200 miles.\n",
    "Customer Profile for KP781 Treadmill:\n",
    "\n",
    "Gender: Male.\n",
    "Age: Between 18 to 35 years.\n",
    "Education: Completion of at least 15 years of education.\n",
    "Annual Income: USD 80,000 and above.\n",
    "Weekly Usage: 4 to 7 times.\n",
    "Fitness Scale: Ranges from 3 to 5.\n",
    "Weekly Running Mileage: 100 miles and above."
   ]
  },
  {
   "cell_type": "code",
   "execution_count": null,
   "metadata": {
    "id": "tcog0yhRyuTD"
   },
   "outputs": [],
   "source": []
  },
  {
   "cell_type": "code",
   "execution_count": null,
   "metadata": {},
   "outputs": [],
   "source": []
  },
  {
   "cell_type": "code",
   "execution_count": null,
   "metadata": {},
   "outputs": [],
   "source": []
  }
 ],
 "metadata": {
  "colab": {
   "provenance": []
  },
  "kernelspec": {
   "display_name": "Python 3 (ipykernel)",
   "language": "python",
   "name": "python3"
  },
  "language_info": {
   "codemirror_mode": {
    "name": "ipython",
    "version": 3
   },
   "file_extension": ".py",
   "mimetype": "text/x-python",
   "name": "python",
   "nbconvert_exporter": "python",
   "pygments_lexer": "ipython3",
   "version": "3.10.12"
  }
 },
 "nbformat": 4,
 "nbformat_minor": 1
}
